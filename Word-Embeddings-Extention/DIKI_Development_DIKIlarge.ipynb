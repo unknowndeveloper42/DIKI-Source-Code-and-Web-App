{
 "cells": [
  {
   "cell_type": "markdown",
   "metadata": {},
   "source": [
    "# Create DIKI Large using Word Embeddings"
   ]
  },
  {
   "cell_type": "markdown",
   "metadata": {},
   "source": [
    "Meta information removed for blind review."
   ]
  },
  {
   "cell_type": "code",
   "execution_count": 1,
   "metadata": {},
   "outputs": [],
   "source": [
    "import pandas as pd"
   ]
  },
  {
   "cell_type": "markdown",
   "metadata": {},
   "source": [
    "#### Read DIKI small"
   ]
  },
  {
   "cell_type": "code",
   "execution_count": 2,
   "metadata": {},
   "outputs": [],
   "source": [
    "df = pd.read_csv('DIKI_small.csv')"
   ]
  },
  {
   "cell_type": "code",
   "execution_count": 3,
   "metadata": {},
   "outputs": [
    {
     "data": {
      "text/html": [
       "<div>\n",
       "<style scoped>\n",
       "    .dataframe tbody tr th:only-of-type {\n",
       "        vertical-align: middle;\n",
       "    }\n",
       "\n",
       "    .dataframe tbody tr th {\n",
       "        vertical-align: top;\n",
       "    }\n",
       "\n",
       "    .dataframe thead th {\n",
       "        text-align: right;\n",
       "    }\n",
       "</style>\n",
       "<table border=\"1\" class=\"dataframe\">\n",
       "  <thead>\n",
       "    <tr style=\"text-align: right;\">\n",
       "      <th></th>\n",
       "      <th>key words</th>\n",
       "    </tr>\n",
       "  </thead>\n",
       "  <tbody>\n",
       "    <tr>\n",
       "      <th>0</th>\n",
       "      <td>\"absurdistan\"</td>\n",
       "    </tr>\n",
       "    <tr>\n",
       "      <th>1</th>\n",
       "      <td>\"bild-dungsbürger\"</td>\n",
       "    </tr>\n",
       "    <tr>\n",
       "      <th>2</th>\n",
       "      <td>\"eierlosen\"</td>\n",
       "    </tr>\n",
       "    <tr>\n",
       "      <th>3</th>\n",
       "      <td>\"entsorgen\"</td>\n",
       "    </tr>\n",
       "    <tr>\n",
       "      <th>4</th>\n",
       "      <td>\"entsorgt\"</td>\n",
       "    </tr>\n",
       "  </tbody>\n",
       "</table>\n",
       "</div>"
      ],
      "text/plain": [
       "            key words\n",
       "0       \"absurdistan\"\n",
       "1  \"bild-dungsbürger\"\n",
       "2         \"eierlosen\"\n",
       "3         \"entsorgen\"\n",
       "4          \"entsorgt\""
      ]
     },
     "execution_count": 3,
     "metadata": {},
     "output_type": "execute_result"
    }
   ],
   "source": [
    "df.head()"
   ]
  },
  {
   "cell_type": "code",
   "execution_count": 4,
   "metadata": {},
   "outputs": [
    {
     "data": {
      "text/plain": [
       "2874"
      ]
     },
     "execution_count": 4,
     "metadata": {},
     "output_type": "execute_result"
    }
   ],
   "source": [
    "len(df)"
   ]
  },
  {
   "cell_type": "code",
   "execution_count": 5,
   "metadata": {},
   "outputs": [],
   "source": [
    "low_incivility_unigrams = list(df[\"key words\"])"
   ]
  },
  {
   "cell_type": "code",
   "execution_count": 6,
   "metadata": {},
   "outputs": [
    {
     "data": {
      "text/plain": [
       "['\"absurdistan\"',\n",
       " '\"bild-dungsbürger\"',\n",
       " '\"eierlosen\"',\n",
       " '\"entsorgen\"',\n",
       " '\"entsorgt\"',\n",
       " '\"flüchtling\"',\n",
       " '\"flüchtlinge\"',\n",
       " '\"friedenstaube\"',\n",
       " '\"gästen\"',\n",
       " '\"heimkehrer\"',\n",
       " '\"integrieren\"',\n",
       " '\"männergruppen\"',\n",
       " '\"pirat\"',\n",
       " '\"schiffbrüchigen\"',\n",
       " '\"schutzberechtigten\"',\n",
       " '\"sozialpopulist\"',\n",
       " '\"spitzenmann\"',\n",
       " '\"wähler\"',\n",
       " '\"zecken\"',\n",
       " '\"ziegenhirten\"']"
      ]
     },
     "execution_count": 6,
     "metadata": {},
     "output_type": "execute_result"
    }
   ],
   "source": [
    "low_incivility_unigrams[:20]"
   ]
  },
  {
   "cell_type": "markdown",
   "metadata": {},
   "source": [
    "## Extend DIKI small with Word Embedding Model"
   ]
  },
  {
   "cell_type": "code",
   "execution_count": 7,
   "metadata": {},
   "outputs": [],
   "source": [
    "import gensim\n",
    "from gensim.models.wrappers import FastText"
   ]
  },
  {
   "cell_type": "code",
   "execution_count": 8,
   "metadata": {},
   "outputs": [],
   "source": [
    "model = FastText.load_fasttext_format('cc.de.300.bin') #from https://fasttext.cc/docs/en/crawl-vectors.html"
   ]
  },
  {
   "cell_type": "code",
   "execution_count": 9,
   "metadata": {},
   "outputs": [
    {
     "data": {
      "text/plain": [
       "[('abgepisst', 0.8173563480377197),\n",
       " ('vollgepisst', 0.7921205759048462),\n",
       " ('gepinkelt', 0.7558916807174683),\n",
       " ('gekackt', 0.7330619096755981),\n",
       " ('pisst', 0.7125478982925415),\n",
       " ('pissen', 0.7026624083518982),\n",
       " ('bepisst', 0.6910557150840759),\n",
       " ('pisse', 0.6593301296234131),\n",
       " ('gepullert', 0.6518568396568298),\n",
       " ('angepisst', 0.6470769047737122)]"
      ]
     },
     "execution_count": 9,
     "metadata": {},
     "output_type": "execute_result"
    }
   ],
   "source": [
    "model.most_similar(\"gepisst\", topn=10) #test haha"
   ]
  },
  {
   "cell_type": "markdown",
   "metadata": {},
   "source": [
    "#### Get the 10 most similar words for each entry in DIKI small"
   ]
  },
  {
   "cell_type": "code",
   "execution_count": 10,
   "metadata": {},
   "outputs": [
    {
     "name": "stdout",
     "output_type": "stream",
     "text": [
      "#fckafd\n",
      "#fckcdu\n",
      "#fckdlf\n",
      "#fcknzs\n",
      "#fcksky\n",
      "#msm\n",
      "#noafd\n",
      "#nospd\n",
      "*opfaopfaopfa*\n",
      "ar***\n",
      "ars***\n",
      "fckafd\n",
      "geb*****t\n",
      "hdf\n",
      "kot***\n",
      "nsafd\n",
      "opfa\n",
      "sc**iße\n",
      "sch…\n",
      "ww3\n",
      "☠️\n",
      "☠️😦😦☠️\n",
      "☪️\n",
      "☻👹🤘\n",
      "✈️\n",
      "✋👍\n",
      "🇩🇪\n",
      "🇩🇪👍\n",
      "🌬️\n",
      "👊\n",
      "👍🇩🇪\n",
      "👎\n",
      "👎🏽\n",
      "👎🖕\n",
      "👹\n",
      "👿\n",
      "💔😡😡👎🏽👎🏽👎🏽\n",
      "💨\n",
      "💩\n",
      "💩🤢\n",
      "🖕\n",
      "🖕🏻\n",
      "🖕🏽\n",
      "😂😂👍\n",
      "😂😂😂👎🖕\n",
      "😈\n",
      "😉👎\n",
      "😔\n",
      "😛\n",
      "😛🖕👎\n",
      "😜\n",
      "😜👎🖕\n",
      "😠\n",
      "😡\n",
      "😡👎\n",
      "😤\n",
      "😦\n",
      "😨\n",
      "😨👎\n",
      "😨😤\n",
      "😩\n",
      "😫\n",
      "😬\n",
      "😵\n",
      "😾\n",
      "🙄\n",
      "🙎🏿‍♂️\n",
      "🚀\n",
      "🚽\n",
      "🛤\n",
      "🤐\n",
      "🤘\n",
      "🤛\n",
      "🤡\n",
      "🤢\n",
      "🤢💩\n",
      "🤣\n",
      "🤦‍\n",
      "🤦🏻\n",
      "🤫\n",
      "🤬\n",
      "🤮\n",
      "🤷🏽\n",
      "🤼🏻\n"
     ]
    }
   ],
   "source": [
    "word_embeddings_10 = []\n",
    "\n",
    "for i in low_incivility_unigrams:\n",
    "    try:\n",
    "        top10= model.most_similar(i, topn=10)\n",
    "        for e in top10:\n",
    "            word_embeddings_10.append(e)\n",
    "    except:\n",
    "        print(i) #Entries of DIKI small that are not in the model\n",
    "        pass"
   ]
  },
  {
   "cell_type": "code",
   "execution_count": 11,
   "metadata": {},
   "outputs": [],
   "source": [
    "word_embeddings_10 = list(set(word_embeddings_10))"
   ]
  },
  {
   "cell_type": "code",
   "execution_count": 12,
   "metadata": {},
   "outputs": [
    {
     "data": {
      "text/plain": [
       "27800"
      ]
     },
     "execution_count": 12,
     "metadata": {},
     "output_type": "execute_result"
    }
   ],
   "source": [
    "len(word_embeddings_10)"
   ]
  },
  {
   "cell_type": "code",
   "execution_count": 13,
   "metadata": {},
   "outputs": [
    {
     "data": {
      "text/plain": [
       "[('Großfahrzeugen', 0.46548447012901306),\n",
       " ('Theatermensch', 0.4346446394920349),\n",
       " ('irrsinniger', 0.5550733804702759),\n",
       " ('StarMorgansMoulinexnilcoNilfiskNogmaticNovamaticOBHOMEGAPANASONICParksidePhilipsPrimeraPRIVILEGProfectisPROGRESSProfiloProtosQuiggRotelRowentaRowiSaphirSalcoSamsungSatrapSeverinShopVacSidemSidemeSidexSIEMENSSimpaSingerSilvaSimpexStandardSMCSolacSuperiorSwirlTaurusTCM',\n",
       "  0.7358262538909912),\n",
       " ('bekloppte', 0.6523733139038086),\n",
       " ('ARIArieteArrowheadAthenaBeruBMWBoschBuzettiChampionDAYCODellortoDIDDucatiEBCEXIDEFehlingFujiHAWKERHIFLOJMPJMTJTK',\n",
       "  0.6052872538566589),\n",
       " ('schwulenfeindlicher', 0.5615580081939697),\n",
       " ('Leitmetzerin', 0.5199687480926514),\n",
       " ('Philanthropismus', 0.4906107187271118),\n",
       " ('Ahmadi-Muslime', 0.5245018601417542),\n",
       " ('schniedel', 0.587764322757721),\n",
       " ('pussy', 0.6608189344406128),\n",
       " ('perverses', 0.6499999165534973),\n",
       " ('Knallcharge', 0.529083788394928),\n",
       " ('A-ZBergschuleAusrüstungs-Top-10Die', 0.4964744448661804),\n",
       " ('Klimamodell', 0.6885697841644287),\n",
       " ('Aschur', 0.4600507616996765),\n",
       " ('menschenrechtsverletzungen', 0.5455092191696167),\n",
       " ('hellbraunen', 0.760926365852356),\n",
       " ('geldsklaven', 0.667251706123352)]"
      ]
     },
     "execution_count": 13,
     "metadata": {},
     "output_type": "execute_result"
    }
   ],
   "source": [
    "word_embeddings_10[:20]"
   ]
  },
  {
   "cell_type": "markdown",
   "metadata": {},
   "source": [
    "#### Set Threshold (Consine Similarity) to 0.6"
   ]
  },
  {
   "cell_type": "code",
   "execution_count": 14,
   "metadata": {},
   "outputs": [],
   "source": [
    "word_embeddings_10_06=[]\n",
    "for i in word_embeddings_10:\n",
    "    if i[1] > 0.6:\n",
    "        word_embeddings_10_06.append(i)"
   ]
  },
  {
   "cell_type": "code",
   "execution_count": 15,
   "metadata": {},
   "outputs": [
    {
     "data": {
      "text/plain": [
       "8588"
      ]
     },
     "execution_count": 15,
     "metadata": {},
     "output_type": "execute_result"
    }
   ],
   "source": [
    "len(word_embeddings_10_06)"
   ]
  },
  {
   "cell_type": "code",
   "execution_count": 16,
   "metadata": {},
   "outputs": [
    {
     "data": {
      "text/plain": [
       "[('StarMorgansMoulinexnilcoNilfiskNogmaticNovamaticOBHOMEGAPANASONICParksidePhilipsPrimeraPRIVILEGProfectisPROGRESSProfiloProtosQuiggRotelRowentaRowiSaphirSalcoSamsungSatrapSeverinShopVacSidemSidemeSidexSIEMENSSimpaSingerSilvaSimpexStandardSMCSolacSuperiorSwirlTaurusTCM',\n",
       "  0.7358262538909912),\n",
       " ('bekloppte', 0.6523733139038086),\n",
       " ('ARIArieteArrowheadAthenaBeruBMWBoschBuzettiChampionDAYCODellortoDIDDucatiEBCEXIDEFehlingFujiHAWKERHIFLOJMPJMTJTK',\n",
       "  0.6052872538566589),\n",
       " ('pussy', 0.6608189344406128),\n",
       " ('perverses', 0.6499999165534973),\n",
       " ('Klimamodell', 0.6885697841644287),\n",
       " ('hellbraunen', 0.760926365852356),\n",
       " ('geldsklaven', 0.667251706123352),\n",
       " ('amateurin', 0.6524983048439026),\n",
       " ('Luftpumpe', 0.6812489032745361)]"
      ]
     },
     "execution_count": 16,
     "metadata": {},
     "output_type": "execute_result"
    }
   ],
   "source": [
    "word_embeddings_10_06[:10] #some wierd stuff in there..."
   ]
  },
  {
   "cell_type": "code",
   "execution_count": 17,
   "metadata": {},
   "outputs": [],
   "source": [
    "word_embeddings_10_06_low = list(set([x[0].lower() for x in word_embeddings_10_06]))\n",
    "#make lower case and remove duplicates"
   ]
  },
  {
   "cell_type": "code",
   "execution_count": 18,
   "metadata": {},
   "outputs": [
    {
     "data": {
      "text/plain": [
       "5510"
      ]
     },
     "execution_count": 18,
     "metadata": {},
     "output_type": "execute_result"
    }
   ],
   "source": [
    "len(word_embeddings_10_06_low)"
   ]
  },
  {
   "cell_type": "code",
   "execution_count": 22,
   "metadata": {},
   "outputs": [],
   "source": [
    "DIKI_large = list(set(word_embeddings_10_06_low + low_incivility_unigrams))\n",
    "#DIKIsmall + Synonyms"
   ]
  },
  {
   "cell_type": "code",
   "execution_count": 23,
   "metadata": {},
   "outputs": [
    {
     "data": {
      "text/html": [
       "<div>\n",
       "<style scoped>\n",
       "    .dataframe tbody tr th:only-of-type {\n",
       "        vertical-align: middle;\n",
       "    }\n",
       "\n",
       "    .dataframe tbody tr th {\n",
       "        vertical-align: top;\n",
       "    }\n",
       "\n",
       "    .dataframe thead th {\n",
       "        text-align: right;\n",
       "    }\n",
       "</style>\n",
       "<table border=\"1\" class=\"dataframe\">\n",
       "  <thead>\n",
       "    <tr style=\"text-align: right;\">\n",
       "      <th></th>\n",
       "      <th>key words</th>\n",
       "    </tr>\n",
       "  </thead>\n",
       "  <tbody>\n",
       "    <tr>\n",
       "      <th>0</th>\n",
       "      <td>prekärster</td>\n",
       "    </tr>\n",
       "    <tr>\n",
       "      <th>1</th>\n",
       "      <td>intoleranz</td>\n",
       "    </tr>\n",
       "    <tr>\n",
       "      <th>2</th>\n",
       "      <td>\"eierlosen\"</td>\n",
       "    </tr>\n",
       "    <tr>\n",
       "      <th>3</th>\n",
       "      <td>faseln</td>\n",
       "    </tr>\n",
       "    <tr>\n",
       "      <th>4</th>\n",
       "      <td>#furchtbar</td>\n",
       "    </tr>\n",
       "    <tr>\n",
       "      <th>...</th>\n",
       "      <td>...</td>\n",
       "    </tr>\n",
       "    <tr>\n",
       "      <th>7391</th>\n",
       "      <td>weinerlich</td>\n",
       "    </tr>\n",
       "    <tr>\n",
       "      <th>7392</th>\n",
       "      <td>staatsfunktionen</td>\n",
       "    </tr>\n",
       "    <tr>\n",
       "      <th>7393</th>\n",
       "      <td>rummotzen</td>\n",
       "    </tr>\n",
       "    <tr>\n",
       "      <th>7394</th>\n",
       "      <td>bauelementefestwiderständesmd-chip-widerstände...</td>\n",
       "    </tr>\n",
       "    <tr>\n",
       "      <th>7395</th>\n",
       "      <td>willkommensinitiative</td>\n",
       "    </tr>\n",
       "  </tbody>\n",
       "</table>\n",
       "<p>7396 rows × 1 columns</p>\n",
       "</div>"
      ],
      "text/plain": [
       "                                              key words\n",
       "0                                            prekärster\n",
       "1                                            intoleranz\n",
       "2                                           \"eierlosen\"\n",
       "3                                                faseln\n",
       "4                                            #furchtbar\n",
       "...                                                 ...\n",
       "7391                                         weinerlich\n",
       "7392                                   staatsfunktionen\n",
       "7393                                          rummotzen\n",
       "7394  bauelementefestwiderständesmd-chip-widerstände...\n",
       "7395                              willkommensinitiative\n",
       "\n",
       "[7396 rows x 1 columns]"
      ]
     },
     "execution_count": 23,
     "metadata": {},
     "output_type": "execute_result"
    }
   ],
   "source": [
    "df_DIKIlarge = pd.DataFrame({'key words':DIKI_large})\n",
    "df_DIKIlarge"
   ]
  },
  {
   "cell_type": "code",
   "execution_count": 24,
   "metadata": {},
   "outputs": [],
   "source": [
    "df_DIKIlarge.to_csv(\"DIKI_large.csv\", index=None, encoding=\"utf-8\")"
   ]
  }
 ],
 "metadata": {
  "kernelspec": {
   "display_name": "Python 3",
   "language": "python",
   "name": "python3"
  },
  "language_info": {
   "codemirror_mode": {
    "name": "ipython",
    "version": 3
   },
   "file_extension": ".py",
   "mimetype": "text/x-python",
   "name": "python",
   "nbconvert_exporter": "python",
   "pygments_lexer": "ipython3",
   "version": "3.8.3"
  }
 },
 "nbformat": 4,
 "nbformat_minor": 2
}

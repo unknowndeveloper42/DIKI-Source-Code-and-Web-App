{
 "cells": [
  {
   "cell_type": "markdown",
   "metadata": {},
   "source": [
    "# DIKI Large Evaluation"
   ]
  },
  {
   "cell_type": "markdown",
   "metadata": {},
   "source": [
    "Meta information removed for blind review."
   ]
  },
  {
   "cell_type": "code",
   "execution_count": 1,
   "metadata": {},
   "outputs": [],
   "source": [
    "import pandas as pd"
   ]
  },
  {
   "cell_type": "markdown",
   "metadata": {},
   "source": [
    "#### Read DIKI small"
   ]
  },
  {
   "cell_type": "code",
   "execution_count": 2,
   "metadata": {},
   "outputs": [],
   "source": [
    "df = pd.read_csv('DIKI_large.csv')"
   ]
  },
  {
   "cell_type": "code",
   "execution_count": 3,
   "metadata": {},
   "outputs": [
    {
     "data": {
      "text/html": [
       "<div>\n",
       "<style scoped>\n",
       "    .dataframe tbody tr th:only-of-type {\n",
       "        vertical-align: middle;\n",
       "    }\n",
       "\n",
       "    .dataframe tbody tr th {\n",
       "        vertical-align: top;\n",
       "    }\n",
       "\n",
       "    .dataframe thead th {\n",
       "        text-align: right;\n",
       "    }\n",
       "</style>\n",
       "<table border=\"1\" class=\"dataframe\">\n",
       "  <thead>\n",
       "    <tr style=\"text-align: right;\">\n",
       "      <th></th>\n",
       "      <th>key words</th>\n",
       "    </tr>\n",
       "  </thead>\n",
       "  <tbody>\n",
       "    <tr>\n",
       "      <th>0</th>\n",
       "      <td>prekärster</td>\n",
       "    </tr>\n",
       "    <tr>\n",
       "      <th>1</th>\n",
       "      <td>intoleranz</td>\n",
       "    </tr>\n",
       "    <tr>\n",
       "      <th>2</th>\n",
       "      <td>\"eierlosen\"</td>\n",
       "    </tr>\n",
       "    <tr>\n",
       "      <th>3</th>\n",
       "      <td>faseln</td>\n",
       "    </tr>\n",
       "    <tr>\n",
       "      <th>4</th>\n",
       "      <td>#furchtbar</td>\n",
       "    </tr>\n",
       "  </tbody>\n",
       "</table>\n",
       "</div>"
      ],
      "text/plain": [
       "     key words\n",
       "0   prekärster\n",
       "1   intoleranz\n",
       "2  \"eierlosen\"\n",
       "3       faseln\n",
       "4   #furchtbar"
      ]
     },
     "execution_count": 3,
     "metadata": {},
     "output_type": "execute_result"
    }
   ],
   "source": [
    "df.head()"
   ]
  },
  {
   "cell_type": "code",
   "execution_count": 4,
   "metadata": {},
   "outputs": [
    {
     "data": {
      "text/plain": [
       "7396"
      ]
     },
     "execution_count": 4,
     "metadata": {},
     "output_type": "execute_result"
    }
   ],
   "source": [
    "len(df)"
   ]
  },
  {
   "cell_type": "code",
   "execution_count": 5,
   "metadata": {},
   "outputs": [],
   "source": [
    "DIKI_large = list(df[\"key words\"])"
   ]
  },
  {
   "cell_type": "code",
   "execution_count": 6,
   "metadata": {},
   "outputs": [
    {
     "data": {
      "text/plain": [
       "['prekärster',\n",
       " 'intoleranz',\n",
       " '\"eierlosen\"',\n",
       " 'faseln',\n",
       " '#furchtbar',\n",
       " 'sed-trulla',\n",
       " 'dreistesten',\n",
       " 'gehirn-prothesen',\n",
       " 'vollpissen',\n",
       " 'aufgehangen',\n",
       " 'verabscheuungswürdig',\n",
       " 'stanken',\n",
       " 'pussys',\n",
       " 'zumutung',\n",
       " 'sklavenähnlichen',\n",
       " 'damn',\n",
       " 'schlawacken',\n",
       " 'unterstützungsverbände',\n",
       " 'klugscheißer',\n",
       " 'gegenmüll']"
      ]
     },
     "execution_count": 6,
     "metadata": {},
     "output_type": "execute_result"
    }
   ],
   "source": [
    "DIKI_large[:20]"
   ]
  },
  {
   "cell_type": "markdown",
   "metadata": {},
   "source": [
    "### Evaluation DIKI large"
   ]
  },
  {
   "cell_type": "code",
   "execution_count": 7,
   "metadata": {},
   "outputs": [],
   "source": [
    "df_test = pd.read_csv('GermEval21_TestData.csv') "
   ]
  },
  {
   "cell_type": "code",
   "execution_count": 8,
   "metadata": {
    "scrolled": true
   },
   "outputs": [
    {
     "data": {
      "text/html": [
       "<div>\n",
       "<style scoped>\n",
       "    .dataframe tbody tr th:only-of-type {\n",
       "        vertical-align: middle;\n",
       "    }\n",
       "\n",
       "    .dataframe tbody tr th {\n",
       "        vertical-align: top;\n",
       "    }\n",
       "\n",
       "    .dataframe thead th {\n",
       "        text-align: right;\n",
       "    }\n",
       "</style>\n",
       "<table border=\"1\" class=\"dataframe\">\n",
       "  <thead>\n",
       "    <tr style=\"text-align: right;\">\n",
       "      <th></th>\n",
       "      <th>comment_id</th>\n",
       "      <th>comment_text</th>\n",
       "      <th>Sub1_Toxic</th>\n",
       "      <th>Sub2_Engaging</th>\n",
       "      <th>Sub3_FactClaiming</th>\n",
       "    </tr>\n",
       "  </thead>\n",
       "  <tbody>\n",
       "    <tr>\n",
       "      <th>0</th>\n",
       "      <td>3245</td>\n",
       "      <td>@USER Sie würden wahrscheinlich auch einen Kri...</td>\n",
       "      <td>1</td>\n",
       "      <td>1</td>\n",
       "      <td>0</td>\n",
       "    </tr>\n",
       "    <tr>\n",
       "      <th>1</th>\n",
       "      <td>3246</td>\n",
       "      <td>@USER , ich glaube,Sie verkrnnen gründlich die...</td>\n",
       "      <td>0</td>\n",
       "      <td>1</td>\n",
       "      <td>1</td>\n",
       "    </tr>\n",
       "    <tr>\n",
       "      <th>2</th>\n",
       "      <td>3247</td>\n",
       "      <td>@USER: Man kann natürlich immerzu dieselbe Sau...</td>\n",
       "      <td>0</td>\n",
       "      <td>1</td>\n",
       "      <td>1</td>\n",
       "    </tr>\n",
       "    <tr>\n",
       "      <th>3</th>\n",
       "      <td>3248</td>\n",
       "      <td>Als jemand, der im real existierenden Sozialis...</td>\n",
       "      <td>1</td>\n",
       "      <td>0</td>\n",
       "      <td>0</td>\n",
       "    </tr>\n",
       "    <tr>\n",
       "      <th>4</th>\n",
       "      <td>3249</td>\n",
       "      <td>Ihr größter Erfolg in ihrem Leben? KLASSENSPRE...</td>\n",
       "      <td>1</td>\n",
       "      <td>0</td>\n",
       "      <td>0</td>\n",
       "    </tr>\n",
       "  </tbody>\n",
       "</table>\n",
       "</div>"
      ],
      "text/plain": [
       "   comment_id                                       comment_text  Sub1_Toxic  \\\n",
       "0        3245  @USER Sie würden wahrscheinlich auch einen Kri...           1   \n",
       "1        3246  @USER , ich glaube,Sie verkrnnen gründlich die...           0   \n",
       "2        3247  @USER: Man kann natürlich immerzu dieselbe Sau...           0   \n",
       "3        3248  Als jemand, der im real existierenden Sozialis...           1   \n",
       "4        3249  Ihr größter Erfolg in ihrem Leben? KLASSENSPRE...           1   \n",
       "\n",
       "   Sub2_Engaging  Sub3_FactClaiming  \n",
       "0              1                  0  \n",
       "1              1                  1  \n",
       "2              1                  1  \n",
       "3              0                  0  \n",
       "4              0                  0  "
      ]
     },
     "execution_count": 8,
     "metadata": {},
     "output_type": "execute_result"
    }
   ],
   "source": [
    "df_test.head()"
   ]
  },
  {
   "cell_type": "code",
   "execution_count": 9,
   "metadata": {},
   "outputs": [],
   "source": [
    "df_test = df_test[[\"comment_text\", \"Sub1_Toxic\"]]"
   ]
  },
  {
   "cell_type": "code",
   "execution_count": 10,
   "metadata": {},
   "outputs": [
    {
     "data": {
      "text/plain": [
       "0    594\n",
       "1    350\n",
       "Name: Sub1_Toxic, dtype: int64"
      ]
     },
     "execution_count": 10,
     "metadata": {},
     "output_type": "execute_result"
    }
   ],
   "source": [
    "df_test[\"Sub1_Toxic\"].value_counts()"
   ]
  },
  {
   "cell_type": "markdown",
   "metadata": {},
   "source": [
    "#### Functions to display matches"
   ]
  },
  {
   "cell_type": "code",
   "execution_count": 11,
   "metadata": {},
   "outputs": [],
   "source": [
    "def match_unigrams_isin(X):\n",
    "    \n",
    "    match = []\n",
    "    \n",
    "    X = str(X)  \n",
    "    X = str.lower(X)\n",
    "\n",
    "    for i in DIKI_large:\n",
    "        if i in X:\n",
    "            match.append(i)\n",
    "           # print(i)\n",
    "\n",
    "    return (match)"
   ]
  },
  {
   "cell_type": "code",
   "execution_count": 12,
   "metadata": {},
   "outputs": [],
   "source": [
    "df_test[\"Matches_isin\"]=df_test[\"comment_text\"].apply(lambda x: match_unigrams_isin(x))"
   ]
  },
  {
   "cell_type": "code",
   "execution_count": 13,
   "metadata": {},
   "outputs": [],
   "source": [
    "#Transfer list of matches to one comma separated string of matches\n",
    "\n",
    "def matches_to_sting(X):\n",
    " \n",
    "    X = \", \".join(X)\n",
    "    \n",
    "    return(X)\n",
    "     "
   ]
  },
  {
   "cell_type": "code",
   "execution_count": 14,
   "metadata": {},
   "outputs": [],
   "source": [
    "df_test[\"matches_string\"]=df_test[\"Matches_isin\"].apply(lambda x: matches_to_sting(x))"
   ]
  },
  {
   "cell_type": "code",
   "execution_count": 15,
   "metadata": {},
   "outputs": [],
   "source": [
    "df_test[\"matches_count\"]=df_test[\"Matches_isin\"].apply(lambda x: len(x))"
   ]
  },
  {
   "cell_type": "code",
   "execution_count": 16,
   "metadata": {},
   "outputs": [
    {
     "data": {
      "text/plain": [
       "0     297\n",
       "1     176\n",
       "2     140\n",
       "3      92\n",
       "4      63\n",
       "5      47\n",
       "6      32\n",
       "7      32\n",
       "8      13\n",
       "11     13\n",
       "9       7\n",
       "12      6\n",
       "10      6\n",
       "13      4\n",
       "17      4\n",
       "14      2\n",
       "16      2\n",
       "20      2\n",
       "24      1\n",
       "15      1\n",
       "18      1\n",
       "19      1\n",
       "23      1\n",
       "35      1\n",
       "Name: matches_count, dtype: int64"
      ]
     },
     "execution_count": 16,
     "metadata": {},
     "output_type": "execute_result"
    }
   ],
   "source": [
    "df_test[\"matches_count\"].value_counts()"
   ]
  },
  {
   "cell_type": "code",
   "execution_count": 17,
   "metadata": {},
   "outputs": [
    {
     "data": {
      "text/html": [
       "<div>\n",
       "<style scoped>\n",
       "    .dataframe tbody tr th:only-of-type {\n",
       "        vertical-align: middle;\n",
       "    }\n",
       "\n",
       "    .dataframe tbody tr th {\n",
       "        vertical-align: top;\n",
       "    }\n",
       "\n",
       "    .dataframe thead th {\n",
       "        text-align: right;\n",
       "    }\n",
       "</style>\n",
       "<table border=\"1\" class=\"dataframe\">\n",
       "  <thead>\n",
       "    <tr style=\"text-align: right;\">\n",
       "      <th></th>\n",
       "      <th>comment_text</th>\n",
       "      <th>Sub1_Toxic</th>\n",
       "      <th>Matches_isin</th>\n",
       "      <th>matches_string</th>\n",
       "      <th>matches_count</th>\n",
       "    </tr>\n",
       "  </thead>\n",
       "  <tbody>\n",
       "    <tr>\n",
       "      <th>695</th>\n",
       "      <td>Relativ wozu? Zur Klarstellung: ich halte viel...</td>\n",
       "      <td>0</td>\n",
       "      <td>[ausland, krank, deutschland, kranken, neue, e...</td>\n",
       "      <td>ausland, krank, deutschland, kranken, neue, ei...</td>\n",
       "      <td>35</td>\n",
       "    </tr>\n",
       "    <tr>\n",
       "      <th>35</th>\n",
       "      <td>Liebe Freunde, der Mordversuch an Nawalny ist ...</td>\n",
       "      <td>0</td>\n",
       "      <td>[mord, deutschland, sau, kam, morde, brechen.,...</td>\n",
       "      <td>mord, deutschland, sau, kam, morde, brechen., ...</td>\n",
       "      <td>24</td>\n",
       "    </tr>\n",
       "    <tr>\n",
       "      <th>925</th>\n",
       "      <td>An alle Berufsempörten, Ich bin Jahrgang 1954 ...</td>\n",
       "      <td>1</td>\n",
       "      <td>[rennt, kartoffel, ollen, sau, neue, dämlich, ...</td>\n",
       "      <td>rennt, kartoffel, ollen, sau, neue, dämlich, t...</td>\n",
       "      <td>23</td>\n",
       "    </tr>\n",
       "    <tr>\n",
       "      <th>275</th>\n",
       "      <td>Kennt man ja aus Thüringen, Herr Altmaier: Wen...</td>\n",
       "      <td>1</td>\n",
       "      <td>[ausland, häme, fremdschämen, größenwahn, wahn...</td>\n",
       "      <td>ausland, häme, fremdschämen, größenwahn, wahns...</td>\n",
       "      <td>20</td>\n",
       "    </tr>\n",
       "    <tr>\n",
       "      <th>419</th>\n",
       "      <td>@MEDIUM Die Entwicklungen in den USA sind für ...</td>\n",
       "      <td>0</td>\n",
       "      <td>[deutschland, rassismus, assi, kam, feind, ver...</td>\n",
       "      <td>deutschland, rassismus, assi, kam, feind, vers...</td>\n",
       "      <td>20</td>\n",
       "    </tr>\n",
       "    <tr>\n",
       "      <th>...</th>\n",
       "      <td>...</td>\n",
       "      <td>...</td>\n",
       "      <td>...</td>\n",
       "      <td>...</td>\n",
       "      <td>...</td>\n",
       "    </tr>\n",
       "    <tr>\n",
       "      <th>687</th>\n",
       "      <td>Ich bin nicht mehr jung und das Gefühl habe ic...</td>\n",
       "      <td>0</td>\n",
       "      <td>[]</td>\n",
       "      <td></td>\n",
       "      <td>0</td>\n",
       "    </tr>\n",
       "    <tr>\n",
       "      <th>686</th>\n",
       "      <td>@USER es wird viel erzählt, wenn der Tag lang ...</td>\n",
       "      <td>1</td>\n",
       "      <td>[]</td>\n",
       "      <td></td>\n",
       "      <td>0</td>\n",
       "    </tr>\n",
       "    <tr>\n",
       "      <th>685</th>\n",
       "      <td>@USER Danke.🙏</td>\n",
       "      <td>0</td>\n",
       "      <td>[]</td>\n",
       "      <td></td>\n",
       "      <td>0</td>\n",
       "    </tr>\n",
       "    <tr>\n",
       "      <th>366</th>\n",
       "      <td>@USER das ist richtig, da voraussichtlich jüng...</td>\n",
       "      <td>0</td>\n",
       "      <td>[]</td>\n",
       "      <td></td>\n",
       "      <td>0</td>\n",
       "    </tr>\n",
       "    <tr>\n",
       "      <th>943</th>\n",
       "      <td>@USER es gab keine Verstöße dort. Zusammen ohn...</td>\n",
       "      <td>0</td>\n",
       "      <td>[]</td>\n",
       "      <td></td>\n",
       "      <td>0</td>\n",
       "    </tr>\n",
       "  </tbody>\n",
       "</table>\n",
       "<p>944 rows × 5 columns</p>\n",
       "</div>"
      ],
      "text/plain": [
       "                                          comment_text  Sub1_Toxic  \\\n",
       "695  Relativ wozu? Zur Klarstellung: ich halte viel...           0   \n",
       "35   Liebe Freunde, der Mordversuch an Nawalny ist ...           0   \n",
       "925  An alle Berufsempörten, Ich bin Jahrgang 1954 ...           1   \n",
       "275  Kennt man ja aus Thüringen, Herr Altmaier: Wen...           1   \n",
       "419  @MEDIUM Die Entwicklungen in den USA sind für ...           0   \n",
       "..                                                 ...         ...   \n",
       "687  Ich bin nicht mehr jung und das Gefühl habe ic...           0   \n",
       "686  @USER es wird viel erzählt, wenn der Tag lang ...           1   \n",
       "685                                      @USER Danke.🙏           0   \n",
       "366  @USER das ist richtig, da voraussichtlich jüng...           0   \n",
       "943  @USER es gab keine Verstöße dort. Zusammen ohn...           0   \n",
       "\n",
       "                                          Matches_isin  \\\n",
       "695  [ausland, krank, deutschland, kranken, neue, e...   \n",
       "35   [mord, deutschland, sau, kam, morde, brechen.,...   \n",
       "925  [rennt, kartoffel, ollen, sau, neue, dämlich, ...   \n",
       "275  [ausland, häme, fremdschämen, größenwahn, wahn...   \n",
       "419  [deutschland, rassismus, assi, kam, feind, ver...   \n",
       "..                                                 ...   \n",
       "687                                                 []   \n",
       "686                                                 []   \n",
       "685                                                 []   \n",
       "366                                                 []   \n",
       "943                                                 []   \n",
       "\n",
       "                                        matches_string  matches_count  \n",
       "695  ausland, krank, deutschland, kranken, neue, ei...             35  \n",
       "35   mord, deutschland, sau, kam, morde, brechen., ...             24  \n",
       "925  rennt, kartoffel, ollen, sau, neue, dämlich, t...             23  \n",
       "275  ausland, häme, fremdschämen, größenwahn, wahns...             20  \n",
       "419  deutschland, rassismus, assi, kam, feind, vers...             20  \n",
       "..                                                 ...            ...  \n",
       "687                                                                 0  \n",
       "686                                                                 0  \n",
       "685                                                                 0  \n",
       "366                                                                 0  \n",
       "943                                                                 0  \n",
       "\n",
       "[944 rows x 5 columns]"
      ]
     },
     "execution_count": 17,
     "metadata": {},
     "output_type": "execute_result"
    }
   ],
   "source": [
    "df_test.sort_values(by=['matches_count'], ascending=False)"
   ]
  },
  {
   "cell_type": "code",
   "execution_count": 18,
   "metadata": {},
   "outputs": [],
   "source": [
    "def f(row):\n",
    "    if row['matches_count'] > 0:\n",
    "        val = 1\n",
    "    elif row['matches_count'] == 0:\n",
    "        val = 0\n",
    "    \n",
    "    return val"
   ]
  },
  {
   "cell_type": "code",
   "execution_count": 19,
   "metadata": {},
   "outputs": [],
   "source": [
    "df_test['label_dich']  = df_test.apply(f, axis=1)"
   ]
  },
  {
   "cell_type": "code",
   "execution_count": 20,
   "metadata": {},
   "outputs": [
    {
     "data": {
      "text/plain": [
       "1    647\n",
       "0    297\n",
       "Name: label_dich, dtype: int64"
      ]
     },
     "execution_count": 20,
     "metadata": {},
     "output_type": "execute_result"
    }
   ],
   "source": [
    "df_test.label_dich.value_counts()"
   ]
  },
  {
   "cell_type": "code",
   "execution_count": 21,
   "metadata": {},
   "outputs": [
    {
     "data": {
      "text/html": [
       "<div>\n",
       "<style scoped>\n",
       "    .dataframe tbody tr th:only-of-type {\n",
       "        vertical-align: middle;\n",
       "    }\n",
       "\n",
       "    .dataframe tbody tr th {\n",
       "        vertical-align: top;\n",
       "    }\n",
       "\n",
       "    .dataframe thead th {\n",
       "        text-align: right;\n",
       "    }\n",
       "</style>\n",
       "<table border=\"1\" class=\"dataframe\">\n",
       "  <thead>\n",
       "    <tr style=\"text-align: right;\">\n",
       "      <th></th>\n",
       "      <th>comment_text</th>\n",
       "      <th>Sub1_Toxic</th>\n",
       "      <th>Matches_isin</th>\n",
       "      <th>matches_string</th>\n",
       "      <th>matches_count</th>\n",
       "      <th>label_dich</th>\n",
       "    </tr>\n",
       "  </thead>\n",
       "  <tbody>\n",
       "    <tr>\n",
       "      <th>0</th>\n",
       "      <td>@USER Sie würden wahrscheinlich auch einen Kri...</td>\n",
       "      <td>1</td>\n",
       "      <td>[wählen]</td>\n",
       "      <td>wählen</td>\n",
       "      <td>1</td>\n",
       "      <td>1</td>\n",
       "    </tr>\n",
       "    <tr>\n",
       "      <th>1</th>\n",
       "      <td>@USER , ich glaube,Sie verkrnnen gründlich die...</td>\n",
       "      <td>0</td>\n",
       "      <td>[deutschland, letzte]</td>\n",
       "      <td>deutschland, letzte</td>\n",
       "      <td>2</td>\n",
       "      <td>1</td>\n",
       "    </tr>\n",
       "    <tr>\n",
       "      <th>2</th>\n",
       "      <td>@USER: Man kann natürlich immerzu dieselbe Sau...</td>\n",
       "      <td>0</td>\n",
       "      <td>[linken, sau, alte, hund, skandal, esel, parte...</td>\n",
       "      <td>linken, sau, alte, hund, skandal, esel, partei...</td>\n",
       "      <td>11</td>\n",
       "      <td>1</td>\n",
       "    </tr>\n",
       "    <tr>\n",
       "      <th>3</th>\n",
       "      <td>Als jemand, der im real existierenden Sozialis...</td>\n",
       "      <td>1</td>\n",
       "      <td>[trottel, sozi, sozia]</td>\n",
       "      <td>trottel, sozi, sozia</td>\n",
       "      <td>3</td>\n",
       "      <td>1</td>\n",
       "    </tr>\n",
       "    <tr>\n",
       "      <th>4</th>\n",
       "      <td>Ihr größter Erfolg in ihrem Leben? KLASSENSPRE...</td>\n",
       "      <td>1</td>\n",
       "      <td>[]</td>\n",
       "      <td></td>\n",
       "      <td>0</td>\n",
       "      <td>0</td>\n",
       "    </tr>\n",
       "  </tbody>\n",
       "</table>\n",
       "</div>"
      ],
      "text/plain": [
       "                                        comment_text  Sub1_Toxic  \\\n",
       "0  @USER Sie würden wahrscheinlich auch einen Kri...           1   \n",
       "1  @USER , ich glaube,Sie verkrnnen gründlich die...           0   \n",
       "2  @USER: Man kann natürlich immerzu dieselbe Sau...           0   \n",
       "3  Als jemand, der im real existierenden Sozialis...           1   \n",
       "4  Ihr größter Erfolg in ihrem Leben? KLASSENSPRE...           1   \n",
       "\n",
       "                                        Matches_isin  \\\n",
       "0                                           [wählen]   \n",
       "1                              [deutschland, letzte]   \n",
       "2  [linken, sau, alte, hund, skandal, esel, parte...   \n",
       "3                             [trottel, sozi, sozia]   \n",
       "4                                                 []   \n",
       "\n",
       "                                      matches_string  matches_count  \\\n",
       "0                                             wählen              1   \n",
       "1                                deutschland, letzte              2   \n",
       "2  linken, sau, alte, hund, skandal, esel, partei...             11   \n",
       "3                               trottel, sozi, sozia              3   \n",
       "4                                                                 0   \n",
       "\n",
       "   label_dich  \n",
       "0           1  \n",
       "1           1  \n",
       "2           1  \n",
       "3           1  \n",
       "4           0  "
      ]
     },
     "execution_count": 21,
     "metadata": {},
     "output_type": "execute_result"
    }
   ],
   "source": [
    "df_test.head()"
   ]
  },
  {
   "cell_type": "markdown",
   "metadata": {},
   "source": [
    "#### Quantitative Evaluation"
   ]
  },
  {
   "cell_type": "code",
   "execution_count": 22,
   "metadata": {},
   "outputs": [],
   "source": [
    "from sklearn.metrics import classification_report"
   ]
  },
  {
   "cell_type": "code",
   "execution_count": 23,
   "metadata": {},
   "outputs": [
    {
     "data": {
      "text/plain": [
       "0    594\n",
       "1    350\n",
       "Name: Sub1_Toxic, dtype: int64"
      ]
     },
     "execution_count": 23,
     "metadata": {},
     "output_type": "execute_result"
    }
   ],
   "source": [
    "df_test.Sub1_Toxic.value_counts()"
   ]
  },
  {
   "cell_type": "code",
   "execution_count": 24,
   "metadata": {},
   "outputs": [
    {
     "name": "stdout",
     "output_type": "stream",
     "text": [
      "              precision    recall  f1-score   support\n",
      "\n",
      "           0       0.74      0.37      0.49       594\n",
      "           1       0.42      0.78      0.55       350\n",
      "\n",
      "    accuracy                           0.52       944\n",
      "   macro avg       0.58      0.58      0.52       944\n",
      "weighted avg       0.62      0.52      0.51       944\n",
      "\n"
     ]
    }
   ],
   "source": [
    "print(classification_report(df_test[\"Sub1_Toxic\"], df_test[\"label_dich\"]))"
   ]
  },
  {
   "cell_type": "markdown",
   "metadata": {},
   "source": [
    "#### Qualitative Error Analysis"
   ]
  },
  {
   "cell_type": "code",
   "execution_count": 25,
   "metadata": {},
   "outputs": [],
   "source": [
    "#False Positives\n",
    "df_fp = df_test[[\"comment_text\",\"matches_string\"]][df_test[\"Sub1_Toxic\"] < df_test[\"label_dich\"]]"
   ]
  },
  {
   "cell_type": "code",
   "execution_count": 26,
   "metadata": {},
   "outputs": [
    {
     "data": {
      "text/html": [
       "<div>\n",
       "<style scoped>\n",
       "    .dataframe tbody tr th:only-of-type {\n",
       "        vertical-align: middle;\n",
       "    }\n",
       "\n",
       "    .dataframe tbody tr th {\n",
       "        vertical-align: top;\n",
       "    }\n",
       "\n",
       "    .dataframe thead th {\n",
       "        text-align: right;\n",
       "    }\n",
       "</style>\n",
       "<table border=\"1\" class=\"dataframe\">\n",
       "  <thead>\n",
       "    <tr style=\"text-align: right;\">\n",
       "      <th></th>\n",
       "      <th>comment_text</th>\n",
       "      <th>matches_string</th>\n",
       "    </tr>\n",
       "  </thead>\n",
       "  <tbody>\n",
       "    <tr>\n",
       "      <th>1</th>\n",
       "      <td>@USER , ich glaube,Sie verkrnnen gründlich die...</td>\n",
       "      <td>deutschland, letzte</td>\n",
       "    </tr>\n",
       "    <tr>\n",
       "      <th>2</th>\n",
       "      <td>@USER: Man kann natürlich immerzu dieselbe Sau...</td>\n",
       "      <td>linken, sau, alte, hund, skandal, esel, partei...</td>\n",
       "    </tr>\n",
       "    <tr>\n",
       "      <th>6</th>\n",
       "      <td>@MEDIUM ...stimmt so nicht ganz: bespiel \"klei...</td>\n",
       "      <td>alte, alter</td>\n",
       "    </tr>\n",
       "    <tr>\n",
       "      <th>8</th>\n",
       "      <td>Warum man diesen Typen einlädt wird sich mir n...</td>\n",
       "      <td>subjekt, deutschland, rassismus, assi, möchteg...</td>\n",
       "    </tr>\n",
       "    <tr>\n",
       "      <th>9</th>\n",
       "      <td>@USER Merkel tritt nicht mehr an. Und mit Sars...</td>\n",
       "      <td>deutschland</td>\n",
       "    </tr>\n",
       "    <tr>\n",
       "      <th>...</th>\n",
       "      <td>...</td>\n",
       "      <td>...</td>\n",
       "    </tr>\n",
       "    <tr>\n",
       "      <th>928</th>\n",
       "      <td>Jetzt mal im ernst, es gibt z.Z. im Kabinett M...</td>\n",
       "      <td>unsympathisch, unsympathischer, sympathisch, u...</td>\n",
       "    </tr>\n",
       "    <tr>\n",
       "      <th>932</th>\n",
       "      <td>Ohne Maßnahmen hätte Corona vielen das Leben g...</td>\n",
       "      <td>nahm</td>\n",
       "    </tr>\n",
       "    <tr>\n",
       "      <th>936</th>\n",
       "      <td>@USER nun ja, die Nazis hatten sie nicht einge...</td>\n",
       "      <td>nazi, nazis</td>\n",
       "    </tr>\n",
       "    <tr>\n",
       "      <th>937</th>\n",
       "      <td>@USER \"verdammt noch mal auch dran hält,\" Das ...</td>\n",
       "      <td>verdammt</td>\n",
       "    </tr>\n",
       "    <tr>\n",
       "      <th>941</th>\n",
       "      <td>😂</td>\n",
       "      <td>😂</td>\n",
       "    </tr>\n",
       "  </tbody>\n",
       "</table>\n",
       "<p>374 rows × 2 columns</p>\n",
       "</div>"
      ],
      "text/plain": [
       "                                          comment_text  \\\n",
       "1    @USER , ich glaube,Sie verkrnnen gründlich die...   \n",
       "2    @USER: Man kann natürlich immerzu dieselbe Sau...   \n",
       "6    @MEDIUM ...stimmt so nicht ganz: bespiel \"klei...   \n",
       "8    Warum man diesen Typen einlädt wird sich mir n...   \n",
       "9    @USER Merkel tritt nicht mehr an. Und mit Sars...   \n",
       "..                                                 ...   \n",
       "928  Jetzt mal im ernst, es gibt z.Z. im Kabinett M...   \n",
       "932  Ohne Maßnahmen hätte Corona vielen das Leben g...   \n",
       "936  @USER nun ja, die Nazis hatten sie nicht einge...   \n",
       "937  @USER \"verdammt noch mal auch dran hält,\" Das ...   \n",
       "941                                                  😂   \n",
       "\n",
       "                                        matches_string  \n",
       "1                                  deutschland, letzte  \n",
       "2    linken, sau, alte, hund, skandal, esel, partei...  \n",
       "6                                          alte, alter  \n",
       "8    subjekt, deutschland, rassismus, assi, möchteg...  \n",
       "9                                          deutschland  \n",
       "..                                                 ...  \n",
       "928  unsympathisch, unsympathischer, sympathisch, u...  \n",
       "932                                               nahm  \n",
       "936                                        nazi, nazis  \n",
       "937                                           verdammt  \n",
       "941                                                  😂  \n",
       "\n",
       "[374 rows x 2 columns]"
      ]
     },
     "execution_count": 26,
     "metadata": {},
     "output_type": "execute_result"
    }
   ],
   "source": [
    "df_fp"
   ]
  },
  {
   "cell_type": "code",
   "execution_count": 27,
   "metadata": {},
   "outputs": [],
   "source": [
    "df_fp.to_csv(\"DIKIlarge_FalsePositives.csv\", index=None, encoding=\"utf-8\")"
   ]
  },
  {
   "cell_type": "code",
   "execution_count": 28,
   "metadata": {},
   "outputs": [],
   "source": [
    "#False Negatives\n",
    "df_fn = df_test[[\"comment_text\"]][df_test[\"Sub1_Toxic\"] > df_test[\"label_dich\"]]"
   ]
  },
  {
   "cell_type": "code",
   "execution_count": 29,
   "metadata": {},
   "outputs": [
    {
     "data": {
      "text/html": [
       "<div>\n",
       "<style scoped>\n",
       "    .dataframe tbody tr th:only-of-type {\n",
       "        vertical-align: middle;\n",
       "    }\n",
       "\n",
       "    .dataframe tbody tr th {\n",
       "        vertical-align: top;\n",
       "    }\n",
       "\n",
       "    .dataframe thead th {\n",
       "        text-align: right;\n",
       "    }\n",
       "</style>\n",
       "<table border=\"1\" class=\"dataframe\">\n",
       "  <thead>\n",
       "    <tr style=\"text-align: right;\">\n",
       "      <th></th>\n",
       "      <th>comment_text</th>\n",
       "    </tr>\n",
       "  </thead>\n",
       "  <tbody>\n",
       "    <tr>\n",
       "      <th>4</th>\n",
       "      <td>Ihr größter Erfolg in ihrem Leben? KLASSENSPRE...</td>\n",
       "    </tr>\n",
       "    <tr>\n",
       "      <th>13</th>\n",
       "      <td>Großen Respekt wie Herr Hallervorden mit der S...</td>\n",
       "    </tr>\n",
       "    <tr>\n",
       "      <th>38</th>\n",
       "      <td>@USER und sie brauchen ärztliche Betreuung</td>\n",
       "    </tr>\n",
       "    <tr>\n",
       "      <th>40</th>\n",
       "      <td>@MEDIUM Warum denn mit fiebern? \"Die Amerikane...</td>\n",
       "    </tr>\n",
       "    <tr>\n",
       "      <th>114</th>\n",
       "      <td>Oh....die Frau hat eine Glaskugel ? Ist ja int...</td>\n",
       "    </tr>\n",
       "    <tr>\n",
       "      <th>...</th>\n",
       "      <td>...</td>\n",
       "    </tr>\n",
       "    <tr>\n",
       "      <th>890</th>\n",
       "      <td>@USER m und wir profitieren noch mehr von der ...</td>\n",
       "    </tr>\n",
       "    <tr>\n",
       "      <th>898</th>\n",
       "      <td>@USER sehr gut👍 , aber das will keiner hören.</td>\n",
       "    </tr>\n",
       "    <tr>\n",
       "      <th>911</th>\n",
       "      <td>@USER Sie sind Hellseher?</td>\n",
       "    </tr>\n",
       "    <tr>\n",
       "      <th>919</th>\n",
       "      <td>Jo, Kleber und Slomka wissen viel besser, was ...</td>\n",
       "    </tr>\n",
       "    <tr>\n",
       "      <th>938</th>\n",
       "      <td>Frau Reemtsma braucht kein Auto. Sie hat vermu...</td>\n",
       "    </tr>\n",
       "  </tbody>\n",
       "</table>\n",
       "<p>77 rows × 1 columns</p>\n",
       "</div>"
      ],
      "text/plain": [
       "                                          comment_text\n",
       "4    Ihr größter Erfolg in ihrem Leben? KLASSENSPRE...\n",
       "13   Großen Respekt wie Herr Hallervorden mit der S...\n",
       "38          @USER und sie brauchen ärztliche Betreuung\n",
       "40   @MEDIUM Warum denn mit fiebern? \"Die Amerikane...\n",
       "114  Oh....die Frau hat eine Glaskugel ? Ist ja int...\n",
       "..                                                 ...\n",
       "890  @USER m und wir profitieren noch mehr von der ...\n",
       "898      @USER sehr gut👍 , aber das will keiner hören.\n",
       "911                          @USER Sie sind Hellseher?\n",
       "919  Jo, Kleber und Slomka wissen viel besser, was ...\n",
       "938  Frau Reemtsma braucht kein Auto. Sie hat vermu...\n",
       "\n",
       "[77 rows x 1 columns]"
      ]
     },
     "execution_count": 29,
     "metadata": {},
     "output_type": "execute_result"
    }
   ],
   "source": [
    "df_fn"
   ]
  },
  {
   "cell_type": "code",
   "execution_count": 30,
   "metadata": {},
   "outputs": [],
   "source": [
    "df_fn.to_csv(\"DIKIlarge_FalseNegatives.csv\", index=None, encoding=\"utf-8\")"
   ]
  },
  {
   "cell_type": "markdown",
   "metadata": {},
   "source": [
    "## "
   ]
  }
 ],
 "metadata": {
  "kernelspec": {
   "display_name": "Python 3",
   "language": "python",
   "name": "python3"
  },
  "language_info": {
   "codemirror_mode": {
    "name": "ipython",
    "version": 3
   },
   "file_extension": ".py",
   "mimetype": "text/x-python",
   "name": "python",
   "nbconvert_exporter": "python",
   "pygments_lexer": "ipython3",
   "version": "3.8.3"
  }
 },
 "nbformat": 4,
 "nbformat_minor": 2
}

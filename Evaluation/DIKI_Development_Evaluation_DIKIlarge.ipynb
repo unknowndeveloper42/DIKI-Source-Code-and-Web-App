{
 "cells": [
  {
   "cell_type": "markdown",
   "metadata": {},
   "source": [
    "# Make DIKI Large with Embeddings and Evaluate on Test Set"
   ]
  },
  {
   "cell_type": "markdown",
   "metadata": {},
   "source": [
    "Meta information removed for blind review."
   ]
  },
  {
   "cell_type": "code",
   "execution_count": 1,
   "metadata": {},
   "outputs": [],
   "source": [
    "import pandas as pd"
   ]
  },
  {
   "cell_type": "markdown",
   "metadata": {},
   "source": [
    "#### Read DIKI small"
   ]
  },
  {
   "cell_type": "code",
   "execution_count": 3,
   "metadata": {},
   "outputs": [],
   "source": [
    "df = pd.read_csv('DIKI_small.csv')"
   ]
  },
  {
   "cell_type": "code",
   "execution_count": 4,
   "metadata": {},
   "outputs": [
    {
     "data": {
      "text/html": [
       "<div>\n",
       "<style scoped>\n",
       "    .dataframe tbody tr th:only-of-type {\n",
       "        vertical-align: middle;\n",
       "    }\n",
       "\n",
       "    .dataframe tbody tr th {\n",
       "        vertical-align: top;\n",
       "    }\n",
       "\n",
       "    .dataframe thead th {\n",
       "        text-align: right;\n",
       "    }\n",
       "</style>\n",
       "<table border=\"1\" class=\"dataframe\">\n",
       "  <thead>\n",
       "    <tr style=\"text-align: right;\">\n",
       "      <th></th>\n",
       "      <th>key words</th>\n",
       "    </tr>\n",
       "  </thead>\n",
       "  <tbody>\n",
       "    <tr>\n",
       "      <th>0</th>\n",
       "      <td>\"absurdistan\"</td>\n",
       "    </tr>\n",
       "    <tr>\n",
       "      <th>1</th>\n",
       "      <td>\"bild-dungsbürger\"</td>\n",
       "    </tr>\n",
       "    <tr>\n",
       "      <th>2</th>\n",
       "      <td>\"eierlosen\"</td>\n",
       "    </tr>\n",
       "    <tr>\n",
       "      <th>3</th>\n",
       "      <td>\"entsorgen\"</td>\n",
       "    </tr>\n",
       "    <tr>\n",
       "      <th>4</th>\n",
       "      <td>\"entsorgt\"</td>\n",
       "    </tr>\n",
       "  </tbody>\n",
       "</table>\n",
       "</div>"
      ],
      "text/plain": [
       "            key words\n",
       "0       \"absurdistan\"\n",
       "1  \"bild-dungsbürger\"\n",
       "2         \"eierlosen\"\n",
       "3         \"entsorgen\"\n",
       "4          \"entsorgt\""
      ]
     },
     "execution_count": 4,
     "metadata": {},
     "output_type": "execute_result"
    }
   ],
   "source": [
    "df.head()"
   ]
  },
  {
   "cell_type": "code",
   "execution_count": 5,
   "metadata": {},
   "outputs": [
    {
     "data": {
      "text/plain": [
       "2874"
      ]
     },
     "execution_count": 5,
     "metadata": {},
     "output_type": "execute_result"
    }
   ],
   "source": [
    "len(df)"
   ]
  },
  {
   "cell_type": "code",
   "execution_count": 6,
   "metadata": {},
   "outputs": [],
   "source": [
    "low_incivility_unigrams = list(df[\"key words\"])"
   ]
  },
  {
   "cell_type": "code",
   "execution_count": 7,
   "metadata": {},
   "outputs": [
    {
     "data": {
      "text/plain": [
       "['\"absurdistan\"',\n",
       " '\"bild-dungsbürger\"',\n",
       " '\"eierlosen\"',\n",
       " '\"entsorgen\"',\n",
       " '\"entsorgt\"',\n",
       " '\"flüchtling\"',\n",
       " '\"flüchtlinge\"',\n",
       " '\"friedenstaube\"',\n",
       " '\"gästen\"',\n",
       " '\"heimkehrer\"',\n",
       " '\"integrieren\"',\n",
       " '\"männergruppen\"',\n",
       " '\"pirat\"',\n",
       " '\"schiffbrüchigen\"',\n",
       " '\"schutzberechtigten\"',\n",
       " '\"sozialpopulist\"',\n",
       " '\"spitzenmann\"',\n",
       " '\"wähler\"',\n",
       " '\"zecken\"',\n",
       " '\"ziegenhirten\"']"
      ]
     },
     "execution_count": 7,
     "metadata": {},
     "output_type": "execute_result"
    }
   ],
   "source": [
    "low_incivility_unigrams[:20]"
   ]
  },
  {
   "cell_type": "markdown",
   "metadata": {},
   "source": [
    "## Extend DIKI small with Word Embedding Model"
   ]
  },
  {
   "cell_type": "code",
   "execution_count": 8,
   "metadata": {},
   "outputs": [],
   "source": [
    "import gensim\n",
    "from gensim.models.wrappers import FastText"
   ]
  },
  {
   "cell_type": "code",
   "execution_count": 9,
   "metadata": {},
   "outputs": [],
   "source": [
    "model = FastText.load_fasttext_format('cc.de.300.bin') #from https://fasttext.cc/docs/en/crawl-vectors.html"
   ]
  },
  {
   "cell_type": "code",
   "execution_count": 10,
   "metadata": {},
   "outputs": [
    {
     "data": {
      "text/plain": [
       "[('abgepisst', 0.8173563480377197),\n",
       " ('vollgepisst', 0.7921205759048462),\n",
       " ('gepinkelt', 0.7558916807174683),\n",
       " ('gekackt', 0.7330619096755981),\n",
       " ('pisst', 0.7125478982925415),\n",
       " ('pissen', 0.7026624083518982),\n",
       " ('bepisst', 0.6910557150840759),\n",
       " ('pisse', 0.6593301296234131),\n",
       " ('gepullert', 0.6518568396568298),\n",
       " ('angepisst', 0.6470769047737122)]"
      ]
     },
     "execution_count": 10,
     "metadata": {},
     "output_type": "execute_result"
    }
   ],
   "source": [
    "model.most_similar(\"gepisst\", topn=10) #test haha"
   ]
  },
  {
   "cell_type": "markdown",
   "metadata": {},
   "source": [
    "#### Get the 10 most similar words for each entry in DIKI small"
   ]
  },
  {
   "cell_type": "code",
   "execution_count": 12,
   "metadata": {},
   "outputs": [
    {
     "name": "stdout",
     "output_type": "stream",
     "text": [
      "#fckafd\n",
      "#fckcdu\n",
      "#fckdlf\n",
      "#fcknzs\n",
      "#fcksky\n",
      "#msm\n",
      "#noafd\n",
      "#nospd\n",
      "*opfaopfaopfa*\n",
      "ar***\n",
      "ars***\n",
      "fckafd\n",
      "geb*****t\n",
      "hdf\n",
      "kot***\n",
      "nsafd\n",
      "opfa\n",
      "sc**iße\n",
      "sch…\n",
      "ww3\n",
      "☠️\n",
      "☠️😦😦☠️\n",
      "☪️\n",
      "☻👹🤘\n",
      "✈️\n",
      "✋👍\n",
      "🇩🇪\n",
      "🇩🇪👍\n",
      "🌬️\n",
      "👊\n",
      "👍🇩🇪\n",
      "👎\n",
      "👎🏽\n",
      "👎🖕\n",
      "👹\n",
      "👿\n",
      "💔😡😡👎🏽👎🏽👎🏽\n",
      "💨\n",
      "💩\n",
      "💩🤢\n",
      "🖕\n",
      "🖕🏻\n",
      "🖕🏽\n",
      "😂😂👍\n",
      "😂😂😂👎🖕\n",
      "😈\n",
      "😉👎\n",
      "😔\n",
      "😛\n",
      "😛🖕👎\n",
      "😜\n",
      "😜👎🖕\n",
      "😠\n",
      "😡\n",
      "😡👎\n",
      "😤\n",
      "😦\n",
      "😨\n",
      "😨👎\n",
      "😨😤\n",
      "😩\n",
      "😫\n",
      "😬\n",
      "😵\n",
      "😾\n",
      "🙄\n",
      "🙎🏿‍♂️\n",
      "🚀\n",
      "🚽\n",
      "🛤\n",
      "🤐\n",
      "🤘\n",
      "🤛\n",
      "🤡\n",
      "🤢\n",
      "🤢💩\n",
      "🤣\n",
      "🤦‍\n",
      "🤦🏻\n",
      "🤫\n",
      "🤬\n",
      "🤮\n",
      "🤷🏽\n",
      "🤼🏻\n"
     ]
    }
   ],
   "source": [
    "word_embeddings_10 = []\n",
    "\n",
    "for i in low_incivility_unigrams:\n",
    "    try:\n",
    "        top10= model.most_similar(i, topn=10)\n",
    "        for e in top10:\n",
    "            word_embeddings_10.append(e)\n",
    "    except:\n",
    "        print(i) #Entries of DIKI small that are not in the model\n",
    "        pass"
   ]
  },
  {
   "cell_type": "code",
   "execution_count": 13,
   "metadata": {},
   "outputs": [],
   "source": [
    "word_embeddings_10 = list(set(word_embeddings_10))"
   ]
  },
  {
   "cell_type": "code",
   "execution_count": 14,
   "metadata": {},
   "outputs": [
    {
     "data": {
      "text/plain": [
       "27800"
      ]
     },
     "execution_count": 14,
     "metadata": {},
     "output_type": "execute_result"
    }
   ],
   "source": [
    "len(word_embeddings_10)"
   ]
  },
  {
   "cell_type": "code",
   "execution_count": 15,
   "metadata": {},
   "outputs": [
    {
     "data": {
      "text/plain": [
       "[('verschwörungstheoretisch', 0.43033522367477417),\n",
       " ('Ausländerfeinden', 0.46606266498565674),\n",
       " ('Mundschleimhauterkrankungen', 0.57176274061203),\n",
       " ('Verfassungsfeinden', 0.5406238436698914),\n",
       " ('Scheißdreck', 0.7226449251174927),\n",
       " ('Förderfragen', 0.44474637508392334),\n",
       " ('Universalwissenschaftler', 0.549344539642334),\n",
       " ('Volkserzähler', 0.4615364074707031),\n",
       " ('furchtbar', 0.7622318863868713),\n",
       " ('BUCHBILDERVIDEOSGIFLoginUploadVoteFolge', 0.4701805114746094),\n",
       " ('20181So2Mo3Di4Mi5Do6Fr7Sa8So9Mo10Di11Mi12Do13Fr14Sa15So16Mo17Di18Mi19Do20Fr21Sa22So23Mo24Di25Mi26Do27Fr28Sa29So30MoFlüge',\n",
       "  0.6917545795440674),\n",
       " ('Mordbuben', 0.46729809045791626),\n",
       " ('herzieht', 0.7694341540336609),\n",
       " ('mitleidslos', 0.48538821935653687),\n",
       " ('betrunken', 0.8067335486412048),\n",
       " ('brummer', 0.654897928237915),\n",
       " ('ekelt', 0.5813190937042236),\n",
       " ('Asylantenheime', 0.5087660551071167),\n",
       " ('Webershaus', 0.5385435819625854),\n",
       " ('20171So2Mo3Di4Mi5Do6Fr7Sa8So9Mo10Di11Mi12Do13Fr14Sa15So16Mo17Di18Mi19Do20Fr21Sa22So23Mo24Di25Mi26Do27Fr28Sa29So30Mo31DiTäglich',\n",
       "  0.6027227640151978)]"
      ]
     },
     "execution_count": 15,
     "metadata": {},
     "output_type": "execute_result"
    }
   ],
   "source": [
    "word_embeddings_10[:20]"
   ]
  },
  {
   "cell_type": "markdown",
   "metadata": {},
   "source": [
    "#### Set Threshold (Consine Similarity) to 0.6"
   ]
  },
  {
   "cell_type": "code",
   "execution_count": 16,
   "metadata": {},
   "outputs": [],
   "source": [
    "word_embeddings_10_06=[]\n",
    "for i in word_embeddings_10:\n",
    "    if i[1] > 0.6:\n",
    "        word_embeddings_10_06.append(i)"
   ]
  },
  {
   "cell_type": "code",
   "execution_count": 17,
   "metadata": {},
   "outputs": [
    {
     "data": {
      "text/plain": [
       "8588"
      ]
     },
     "execution_count": 17,
     "metadata": {},
     "output_type": "execute_result"
    }
   ],
   "source": [
    "len(word_embeddings_10_06)"
   ]
  },
  {
   "cell_type": "code",
   "execution_count": 59,
   "metadata": {},
   "outputs": [
    {
     "data": {
      "text/plain": [
       "[('Scheißdreck', 0.7226449251174927),\n",
       " ('furchtbar', 0.7622318863868713),\n",
       " ('20181So2Mo3Di4Mi5Do6Fr7Sa8So9Mo10Di11Mi12Do13Fr14Sa15So16Mo17Di18Mi19Do20Fr21Sa22So23Mo24Di25Mi26Do27Fr28Sa29So30MoFlüge',\n",
       "  0.6917545795440674),\n",
       " ('herzieht', 0.7694341540336609),\n",
       " ('betrunken', 0.8067335486412048),\n",
       " ('brummer', 0.654897928237915),\n",
       " ('20171So2Mo3Di4Mi5Do6Fr7Sa8So9Mo10Di11Mi12Do13Fr14Sa15So16Mo17Di18Mi19Do20Fr21Sa22So23Mo24Di25Mi26Do27Fr28Sa29So30Mo31DiTäglich',\n",
       "  0.6027227640151978),\n",
       " ('jooo', 0.6298519372940063),\n",
       " ('abzukassieren', 0.6509801149368286),\n",
       " ('emotionalsozialen', 0.615514874458313)]"
      ]
     },
     "execution_count": 59,
     "metadata": {},
     "output_type": "execute_result"
    }
   ],
   "source": [
    "word_embeddings_10_06[:10] #some wierd stuff in there..."
   ]
  },
  {
   "cell_type": "code",
   "execution_count": 19,
   "metadata": {},
   "outputs": [],
   "source": [
    "word_embeddings_10_06_low = list(set([x[0].lower() for x in word_embeddings_10_06]))\n",
    "#make lower case and remove duplicates"
   ]
  },
  {
   "cell_type": "code",
   "execution_count": 20,
   "metadata": {},
   "outputs": [
    {
     "data": {
      "text/plain": [
       "5510"
      ]
     },
     "execution_count": 20,
     "metadata": {},
     "output_type": "execute_result"
    }
   ],
   "source": [
    "len(word_embeddings_10_06_low)"
   ]
  },
  {
   "cell_type": "markdown",
   "metadata": {},
   "source": [
    "### Evaluation DIKI large"
   ]
  },
  {
   "cell_type": "code",
   "execution_count": 23,
   "metadata": {},
   "outputs": [],
   "source": [
    "low_incivility_unigrams_embeddings = list(set(word_embeddings_10_06_low + low_incivility_unigrams))\n",
    "#DIKIsmall + Synonyms"
   ]
  },
  {
   "cell_type": "code",
   "execution_count": 24,
   "metadata": {},
   "outputs": [
    {
     "data": {
      "text/plain": [
       "7396"
      ]
     },
     "execution_count": 24,
     "metadata": {},
     "output_type": "execute_result"
    }
   ],
   "source": [
    "len(low_incivility_unigrams_embeddings)"
   ]
  },
  {
   "cell_type": "code",
   "execution_count": 25,
   "metadata": {},
   "outputs": [],
   "source": [
    "df_test = pd.read_csv('GermEval21_TestData.csv') "
   ]
  },
  {
   "cell_type": "code",
   "execution_count": 27,
   "metadata": {
    "scrolled": true
   },
   "outputs": [
    {
     "data": {
      "text/html": [
       "<div>\n",
       "<style scoped>\n",
       "    .dataframe tbody tr th:only-of-type {\n",
       "        vertical-align: middle;\n",
       "    }\n",
       "\n",
       "    .dataframe tbody tr th {\n",
       "        vertical-align: top;\n",
       "    }\n",
       "\n",
       "    .dataframe thead th {\n",
       "        text-align: right;\n",
       "    }\n",
       "</style>\n",
       "<table border=\"1\" class=\"dataframe\">\n",
       "  <thead>\n",
       "    <tr style=\"text-align: right;\">\n",
       "      <th></th>\n",
       "      <th>comment_id</th>\n",
       "      <th>comment_text</th>\n",
       "      <th>Sub1_Toxic</th>\n",
       "      <th>Sub2_Engaging</th>\n",
       "      <th>Sub3_FactClaiming</th>\n",
       "    </tr>\n",
       "  </thead>\n",
       "  <tbody>\n",
       "    <tr>\n",
       "      <th>0</th>\n",
       "      <td>3245</td>\n",
       "      <td>@USER Sie würden wahrscheinlich auch einen Kri...</td>\n",
       "      <td>1</td>\n",
       "      <td>1</td>\n",
       "      <td>0</td>\n",
       "    </tr>\n",
       "    <tr>\n",
       "      <th>1</th>\n",
       "      <td>3246</td>\n",
       "      <td>@USER , ich glaube,Sie verkrnnen gründlich die...</td>\n",
       "      <td>0</td>\n",
       "      <td>1</td>\n",
       "      <td>1</td>\n",
       "    </tr>\n",
       "    <tr>\n",
       "      <th>2</th>\n",
       "      <td>3247</td>\n",
       "      <td>@USER: Man kann natürlich immerzu dieselbe Sau...</td>\n",
       "      <td>0</td>\n",
       "      <td>1</td>\n",
       "      <td>1</td>\n",
       "    </tr>\n",
       "    <tr>\n",
       "      <th>3</th>\n",
       "      <td>3248</td>\n",
       "      <td>Als jemand, der im real existierenden Sozialis...</td>\n",
       "      <td>1</td>\n",
       "      <td>0</td>\n",
       "      <td>0</td>\n",
       "    </tr>\n",
       "    <tr>\n",
       "      <th>4</th>\n",
       "      <td>3249</td>\n",
       "      <td>Ihr größter Erfolg in ihrem Leben? KLASSENSPRE...</td>\n",
       "      <td>1</td>\n",
       "      <td>0</td>\n",
       "      <td>0</td>\n",
       "    </tr>\n",
       "  </tbody>\n",
       "</table>\n",
       "</div>"
      ],
      "text/plain": [
       "   comment_id                                       comment_text  Sub1_Toxic  \\\n",
       "0        3245  @USER Sie würden wahrscheinlich auch einen Kri...           1   \n",
       "1        3246  @USER , ich glaube,Sie verkrnnen gründlich die...           0   \n",
       "2        3247  @USER: Man kann natürlich immerzu dieselbe Sau...           0   \n",
       "3        3248  Als jemand, der im real existierenden Sozialis...           1   \n",
       "4        3249  Ihr größter Erfolg in ihrem Leben? KLASSENSPRE...           1   \n",
       "\n",
       "   Sub2_Engaging  Sub3_FactClaiming  \n",
       "0              1                  0  \n",
       "1              1                  1  \n",
       "2              1                  1  \n",
       "3              0                  0  \n",
       "4              0                  0  "
      ]
     },
     "execution_count": 27,
     "metadata": {},
     "output_type": "execute_result"
    }
   ],
   "source": [
    "df_test.head()"
   ]
  },
  {
   "cell_type": "code",
   "execution_count": 28,
   "metadata": {},
   "outputs": [],
   "source": [
    "df_test = df_test[[\"comment_text\", \"Sub1_Toxic\"]]"
   ]
  },
  {
   "cell_type": "code",
   "execution_count": 29,
   "metadata": {},
   "outputs": [
    {
     "data": {
      "text/plain": [
       "0    594\n",
       "1    350\n",
       "Name: Sub1_Toxic, dtype: int64"
      ]
     },
     "execution_count": 29,
     "metadata": {},
     "output_type": "execute_result"
    }
   ],
   "source": [
    "df_test[\"Sub1_Toxic\"].value_counts()"
   ]
  },
  {
   "cell_type": "markdown",
   "metadata": {},
   "source": [
    "#### Functions to display matches"
   ]
  },
  {
   "cell_type": "code",
   "execution_count": 21,
   "metadata": {},
   "outputs": [],
   "source": [
    "def match_unigrams_isin(X):\n",
    "    \n",
    "    match = []\n",
    "    \n",
    "    X = str(X)  \n",
    "    X = str.lower(X)\n",
    "\n",
    "    for i in low_incivility_unigrams_embeddings:\n",
    "        if i in X:\n",
    "            match.append(i)\n",
    "           # print(i)\n",
    "\n",
    "    return (match)"
   ]
  },
  {
   "cell_type": "code",
   "execution_count": 30,
   "metadata": {},
   "outputs": [],
   "source": [
    "df_test[\"Matches_isin\"]=df_test[\"comment_text\"].apply(lambda x: match_unigrams_isin(x))"
   ]
  },
  {
   "cell_type": "code",
   "execution_count": 31,
   "metadata": {},
   "outputs": [],
   "source": [
    "#Transfer list of matches to one comma separated string of matches\n",
    "\n",
    "def matches_to_sting(X):\n",
    " \n",
    "    X = \", \".join(X)\n",
    "    \n",
    "    return(X)\n",
    "     "
   ]
  },
  {
   "cell_type": "code",
   "execution_count": 32,
   "metadata": {},
   "outputs": [],
   "source": [
    "df_test[\"matches_string\"]=df_test[\"Matches_isin\"].apply(lambda x: matches_to_sting(x))"
   ]
  },
  {
   "cell_type": "code",
   "execution_count": 33,
   "metadata": {},
   "outputs": [],
   "source": [
    "df_test[\"matches_count\"]=df_test[\"Matches_isin\"].apply(lambda x: len(x))"
   ]
  },
  {
   "cell_type": "code",
   "execution_count": 34,
   "metadata": {},
   "outputs": [
    {
     "data": {
      "text/plain": [
       "0     297\n",
       "1     176\n",
       "2     140\n",
       "3      92\n",
       "4      63\n",
       "5      47\n",
       "6      32\n",
       "7      32\n",
       "8      13\n",
       "11     13\n",
       "9       7\n",
       "12      6\n",
       "10      6\n",
       "13      4\n",
       "17      4\n",
       "14      2\n",
       "16      2\n",
       "20      2\n",
       "24      1\n",
       "15      1\n",
       "18      1\n",
       "19      1\n",
       "23      1\n",
       "35      1\n",
       "Name: matches_count, dtype: int64"
      ]
     },
     "execution_count": 34,
     "metadata": {},
     "output_type": "execute_result"
    }
   ],
   "source": [
    "df_test[\"matches_count\"].value_counts()"
   ]
  },
  {
   "cell_type": "code",
   "execution_count": 36,
   "metadata": {},
   "outputs": [
    {
     "data": {
      "text/html": [
       "<div>\n",
       "<style scoped>\n",
       "    .dataframe tbody tr th:only-of-type {\n",
       "        vertical-align: middle;\n",
       "    }\n",
       "\n",
       "    .dataframe tbody tr th {\n",
       "        vertical-align: top;\n",
       "    }\n",
       "\n",
       "    .dataframe thead th {\n",
       "        text-align: right;\n",
       "    }\n",
       "</style>\n",
       "<table border=\"1\" class=\"dataframe\">\n",
       "  <thead>\n",
       "    <tr style=\"text-align: right;\">\n",
       "      <th></th>\n",
       "      <th>comment_text</th>\n",
       "      <th>Sub1_Toxic</th>\n",
       "      <th>Matches_isin</th>\n",
       "      <th>matches_string</th>\n",
       "      <th>matches_count</th>\n",
       "    </tr>\n",
       "  </thead>\n",
       "  <tbody>\n",
       "    <tr>\n",
       "      <th>695</th>\n",
       "      <td>Relativ wozu? Zur Klarstellung: ich halte viel...</td>\n",
       "      <td>0</td>\n",
       "      <td>[terror, rechtsextreme, wandert, inkompetent, ...</td>\n",
       "      <td>terror, rechtsextreme, wandert, inkompetent, k...</td>\n",
       "      <td>35</td>\n",
       "    </tr>\n",
       "    <tr>\n",
       "      <th>35</th>\n",
       "      <td>Liebe Freunde, der Mordversuch an Nawalny ist ...</td>\n",
       "      <td>0</td>\n",
       "      <td>[gehindert, setzen, tot, haufe, einzige, deuts...</td>\n",
       "      <td>gehindert, setzen, tot, haufe, einzige, deutsc...</td>\n",
       "      <td>24</td>\n",
       "    </tr>\n",
       "    <tr>\n",
       "      <th>925</th>\n",
       "      <td>An alle Berufsempörten, Ich bin Jahrgang 1954 ...</td>\n",
       "      <td>1</td>\n",
       "      <td>[ollen, sklaven, berufsempörten, redet, lappen...</td>\n",
       "      <td>ollen, sklaven, berufsempörten, redet, lappen,...</td>\n",
       "      <td>23</td>\n",
       "    </tr>\n",
       "    <tr>\n",
       "      <th>275</th>\n",
       "      <td>Kennt man ja aus Thüringen, Herr Altmaier: Wen...</td>\n",
       "      <td>1</td>\n",
       "      <td>[schämen, wahn, heuchler, größenwahn, fremdsch...</td>\n",
       "      <td>schämen, wahn, heuchler, größenwahn, fremdschä...</td>\n",
       "      <td>20</td>\n",
       "    </tr>\n",
       "    <tr>\n",
       "      <th>419</th>\n",
       "      <td>@MEDIUM Die Entwicklungen in den USA sind für ...</td>\n",
       "      <td>0</td>\n",
       "      <td>[deutschland, feind, homophob, rechte, letzte,...</td>\n",
       "      <td>deutschland, feind, homophob, rechte, letzte, ...</td>\n",
       "      <td>20</td>\n",
       "    </tr>\n",
       "    <tr>\n",
       "      <th>...</th>\n",
       "      <td>...</td>\n",
       "      <td>...</td>\n",
       "      <td>...</td>\n",
       "      <td>...</td>\n",
       "      <td>...</td>\n",
       "    </tr>\n",
       "    <tr>\n",
       "      <th>687</th>\n",
       "      <td>Ich bin nicht mehr jung und das Gefühl habe ic...</td>\n",
       "      <td>0</td>\n",
       "      <td>[]</td>\n",
       "      <td></td>\n",
       "      <td>0</td>\n",
       "    </tr>\n",
       "    <tr>\n",
       "      <th>686</th>\n",
       "      <td>@USER es wird viel erzählt, wenn der Tag lang ...</td>\n",
       "      <td>1</td>\n",
       "      <td>[]</td>\n",
       "      <td></td>\n",
       "      <td>0</td>\n",
       "    </tr>\n",
       "    <tr>\n",
       "      <th>685</th>\n",
       "      <td>@USER Danke.🙏</td>\n",
       "      <td>0</td>\n",
       "      <td>[]</td>\n",
       "      <td></td>\n",
       "      <td>0</td>\n",
       "    </tr>\n",
       "    <tr>\n",
       "      <th>366</th>\n",
       "      <td>@USER das ist richtig, da voraussichtlich jüng...</td>\n",
       "      <td>0</td>\n",
       "      <td>[]</td>\n",
       "      <td></td>\n",
       "      <td>0</td>\n",
       "    </tr>\n",
       "    <tr>\n",
       "      <th>943</th>\n",
       "      <td>@USER es gab keine Verstöße dort. Zusammen ohn...</td>\n",
       "      <td>0</td>\n",
       "      <td>[]</td>\n",
       "      <td></td>\n",
       "      <td>0</td>\n",
       "    </tr>\n",
       "  </tbody>\n",
       "</table>\n",
       "<p>944 rows × 5 columns</p>\n",
       "</div>"
      ],
      "text/plain": [
       "                                          comment_text  Sub1_Toxic  \\\n",
       "695  Relativ wozu? Zur Klarstellung: ich halte viel...           0   \n",
       "35   Liebe Freunde, der Mordversuch an Nawalny ist ...           0   \n",
       "925  An alle Berufsempörten, Ich bin Jahrgang 1954 ...           1   \n",
       "275  Kennt man ja aus Thüringen, Herr Altmaier: Wen...           1   \n",
       "419  @MEDIUM Die Entwicklungen in den USA sind für ...           0   \n",
       "..                                                 ...         ...   \n",
       "687  Ich bin nicht mehr jung und das Gefühl habe ic...           0   \n",
       "686  @USER es wird viel erzählt, wenn der Tag lang ...           1   \n",
       "685                                      @USER Danke.🙏           0   \n",
       "366  @USER das ist richtig, da voraussichtlich jüng...           0   \n",
       "943  @USER es gab keine Verstöße dort. Zusammen ohn...           0   \n",
       "\n",
       "                                          Matches_isin  \\\n",
       "695  [terror, rechtsextreme, wandert, inkompetent, ...   \n",
       "35   [gehindert, setzen, tot, haufe, einzige, deuts...   \n",
       "925  [ollen, sklaven, berufsempörten, redet, lappen...   \n",
       "275  [schämen, wahn, heuchler, größenwahn, fremdsch...   \n",
       "419  [deutschland, feind, homophob, rechte, letzte,...   \n",
       "..                                                 ...   \n",
       "687                                                 []   \n",
       "686                                                 []   \n",
       "685                                                 []   \n",
       "366                                                 []   \n",
       "943                                                 []   \n",
       "\n",
       "                                        matches_string  matches_count  \n",
       "695  terror, rechtsextreme, wandert, inkompetent, k...             35  \n",
       "35   gehindert, setzen, tot, haufe, einzige, deutsc...             24  \n",
       "925  ollen, sklaven, berufsempörten, redet, lappen,...             23  \n",
       "275  schämen, wahn, heuchler, größenwahn, fremdschä...             20  \n",
       "419  deutschland, feind, homophob, rechte, letzte, ...             20  \n",
       "..                                                 ...            ...  \n",
       "687                                                                 0  \n",
       "686                                                                 0  \n",
       "685                                                                 0  \n",
       "366                                                                 0  \n",
       "943                                                                 0  \n",
       "\n",
       "[944 rows x 5 columns]"
      ]
     },
     "execution_count": 36,
     "metadata": {},
     "output_type": "execute_result"
    }
   ],
   "source": [
    "df_test.sort_values(by=['matches_count'], ascending=False)"
   ]
  },
  {
   "cell_type": "code",
   "execution_count": 37,
   "metadata": {},
   "outputs": [],
   "source": [
    "def f(row):\n",
    "    if row['matches_count'] > 0:\n",
    "        val = 1\n",
    "    elif row['matches_count'] == 0:\n",
    "        val = 0\n",
    "    \n",
    "    return val"
   ]
  },
  {
   "cell_type": "code",
   "execution_count": 38,
   "metadata": {},
   "outputs": [],
   "source": [
    "df_test['label_dich']  = df_test.apply(f, axis=1)"
   ]
  },
  {
   "cell_type": "code",
   "execution_count": 39,
   "metadata": {},
   "outputs": [
    {
     "data": {
      "text/plain": [
       "1    647\n",
       "0    297\n",
       "Name: label_dich, dtype: int64"
      ]
     },
     "execution_count": 39,
     "metadata": {},
     "output_type": "execute_result"
    }
   ],
   "source": [
    "df_test.label_dich.value_counts()"
   ]
  },
  {
   "cell_type": "code",
   "execution_count": 40,
   "metadata": {},
   "outputs": [
    {
     "data": {
      "text/html": [
       "<div>\n",
       "<style scoped>\n",
       "    .dataframe tbody tr th:only-of-type {\n",
       "        vertical-align: middle;\n",
       "    }\n",
       "\n",
       "    .dataframe tbody tr th {\n",
       "        vertical-align: top;\n",
       "    }\n",
       "\n",
       "    .dataframe thead th {\n",
       "        text-align: right;\n",
       "    }\n",
       "</style>\n",
       "<table border=\"1\" class=\"dataframe\">\n",
       "  <thead>\n",
       "    <tr style=\"text-align: right;\">\n",
       "      <th></th>\n",
       "      <th>comment_text</th>\n",
       "      <th>Sub1_Toxic</th>\n",
       "      <th>Matches_isin</th>\n",
       "      <th>matches_string</th>\n",
       "      <th>matches_count</th>\n",
       "      <th>label_dich</th>\n",
       "    </tr>\n",
       "  </thead>\n",
       "  <tbody>\n",
       "    <tr>\n",
       "      <th>0</th>\n",
       "      <td>@USER Sie würden wahrscheinlich auch einen Kri...</td>\n",
       "      <td>1</td>\n",
       "      <td>[wählen]</td>\n",
       "      <td>wählen</td>\n",
       "      <td>1</td>\n",
       "      <td>1</td>\n",
       "    </tr>\n",
       "    <tr>\n",
       "      <th>1</th>\n",
       "      <td>@USER , ich glaube,Sie verkrnnen gründlich die...</td>\n",
       "      <td>0</td>\n",
       "      <td>[deutschland, letzte]</td>\n",
       "      <td>deutschland, letzte</td>\n",
       "      <td>2</td>\n",
       "      <td>1</td>\n",
       "    </tr>\n",
       "    <tr>\n",
       "      <th>2</th>\n",
       "      <td>@USER: Man kann natürlich immerzu dieselbe Sau...</td>\n",
       "      <td>0</td>\n",
       "      <td>[linke, amigo, hunde, skandal, parteien, sau, ...</td>\n",
       "      <td>linke, amigo, hunde, skandal, parteien, sau, a...</td>\n",
       "      <td>11</td>\n",
       "      <td>1</td>\n",
       "    </tr>\n",
       "    <tr>\n",
       "      <th>3</th>\n",
       "      <td>Als jemand, der im real existierenden Sozialis...</td>\n",
       "      <td>1</td>\n",
       "      <td>[sozia, sozi, trottel]</td>\n",
       "      <td>sozia, sozi, trottel</td>\n",
       "      <td>3</td>\n",
       "      <td>1</td>\n",
       "    </tr>\n",
       "    <tr>\n",
       "      <th>4</th>\n",
       "      <td>Ihr größter Erfolg in ihrem Leben? KLASSENSPRE...</td>\n",
       "      <td>1</td>\n",
       "      <td>[]</td>\n",
       "      <td></td>\n",
       "      <td>0</td>\n",
       "      <td>0</td>\n",
       "    </tr>\n",
       "  </tbody>\n",
       "</table>\n",
       "</div>"
      ],
      "text/plain": [
       "                                        comment_text  Sub1_Toxic  \\\n",
       "0  @USER Sie würden wahrscheinlich auch einen Kri...           1   \n",
       "1  @USER , ich glaube,Sie verkrnnen gründlich die...           0   \n",
       "2  @USER: Man kann natürlich immerzu dieselbe Sau...           0   \n",
       "3  Als jemand, der im real existierenden Sozialis...           1   \n",
       "4  Ihr größter Erfolg in ihrem Leben? KLASSENSPRE...           1   \n",
       "\n",
       "                                        Matches_isin  \\\n",
       "0                                           [wählen]   \n",
       "1                              [deutschland, letzte]   \n",
       "2  [linke, amigo, hunde, skandal, parteien, sau, ...   \n",
       "3                             [sozia, sozi, trottel]   \n",
       "4                                                 []   \n",
       "\n",
       "                                      matches_string  matches_count  \\\n",
       "0                                             wählen              1   \n",
       "1                                deutschland, letzte              2   \n",
       "2  linke, amigo, hunde, skandal, parteien, sau, a...             11   \n",
       "3                               sozia, sozi, trottel              3   \n",
       "4                                                                 0   \n",
       "\n",
       "   label_dich  \n",
       "0           1  \n",
       "1           1  \n",
       "2           1  \n",
       "3           1  \n",
       "4           0  "
      ]
     },
     "execution_count": 40,
     "metadata": {},
     "output_type": "execute_result"
    }
   ],
   "source": [
    "df_test.head()"
   ]
  },
  {
   "cell_type": "code",
   "execution_count": 41,
   "metadata": {},
   "outputs": [],
   "source": [
    "from sklearn.metrics import classification_report"
   ]
  },
  {
   "cell_type": "code",
   "execution_count": 42,
   "metadata": {},
   "outputs": [
    {
     "data": {
      "text/plain": [
       "0    594\n",
       "1    350\n",
       "Name: Sub1_Toxic, dtype: int64"
      ]
     },
     "execution_count": 42,
     "metadata": {},
     "output_type": "execute_result"
    }
   ],
   "source": [
    "df_test.Sub1_Toxic.value_counts()"
   ]
  },
  {
   "cell_type": "code",
   "execution_count": 44,
   "metadata": {},
   "outputs": [
    {
     "name": "stdout",
     "output_type": "stream",
     "text": [
      "              precision    recall  f1-score   support\n",
      "\n",
      "           0       0.74      0.37      0.49       594\n",
      "           1       0.42      0.78      0.55       350\n",
      "\n",
      "    accuracy                           0.52       944\n",
      "   macro avg       0.58      0.58      0.52       944\n",
      "weighted avg       0.62      0.52      0.51       944\n",
      "\n"
     ]
    }
   ],
   "source": [
    "print(classification_report(df_test[\"Sub1_Toxic\"], df_test[\"label_dich\"]))"
   ]
  },
  {
   "cell_type": "code",
   "execution_count": 46,
   "metadata": {},
   "outputs": [],
   "source": [
    "#False Positives\n",
    "df_fp = df_test[[\"comment_text\",\"matches_string\"]][df_test[\"Sub1_Toxic\"] < df_test[\"label_dich\"]]"
   ]
  },
  {
   "cell_type": "code",
   "execution_count": 47,
   "metadata": {},
   "outputs": [
    {
     "data": {
      "text/html": [
       "<div>\n",
       "<style scoped>\n",
       "    .dataframe tbody tr th:only-of-type {\n",
       "        vertical-align: middle;\n",
       "    }\n",
       "\n",
       "    .dataframe tbody tr th {\n",
       "        vertical-align: top;\n",
       "    }\n",
       "\n",
       "    .dataframe thead th {\n",
       "        text-align: right;\n",
       "    }\n",
       "</style>\n",
       "<table border=\"1\" class=\"dataframe\">\n",
       "  <thead>\n",
       "    <tr style=\"text-align: right;\">\n",
       "      <th></th>\n",
       "      <th>comment_text</th>\n",
       "      <th>matches_string</th>\n",
       "    </tr>\n",
       "  </thead>\n",
       "  <tbody>\n",
       "    <tr>\n",
       "      <th>1</th>\n",
       "      <td>@USER , ich glaube,Sie verkrnnen gründlich die...</td>\n",
       "      <td>deutschland, letzte</td>\n",
       "    </tr>\n",
       "    <tr>\n",
       "      <th>2</th>\n",
       "      <td>@USER: Man kann natürlich immerzu dieselbe Sau...</td>\n",
       "      <td>linke, amigo, hunde, skandal, parteien, sau, a...</td>\n",
       "    </tr>\n",
       "    <tr>\n",
       "      <th>6</th>\n",
       "      <td>@MEDIUM ...stimmt so nicht ganz: bespiel \"klei...</td>\n",
       "      <td>alter, alte</td>\n",
       "    </tr>\n",
       "    <tr>\n",
       "      <th>8</th>\n",
       "      <td>Warum man diesen Typen einlädt wird sich mir n...</td>\n",
       "      <td>dümmste, gerede, pack, deutschland, affen, red...</td>\n",
       "    </tr>\n",
       "    <tr>\n",
       "      <th>9</th>\n",
       "      <td>@USER Merkel tritt nicht mehr an. Und mit Sars...</td>\n",
       "      <td>deutschland</td>\n",
       "    </tr>\n",
       "    <tr>\n",
       "      <th>...</th>\n",
       "      <td>...</td>\n",
       "      <td>...</td>\n",
       "    </tr>\n",
       "    <tr>\n",
       "      <th>928</th>\n",
       "      <td>Jetzt mal im ernst, es gibt z.Z. im Kabinett M...</td>\n",
       "      <td>unsympath, sympathisch, unsympathische, unsymp...</td>\n",
       "    </tr>\n",
       "    <tr>\n",
       "      <th>932</th>\n",
       "      <td>Ohne Maßnahmen hätte Corona vielen das Leben g...</td>\n",
       "      <td>nahm</td>\n",
       "    </tr>\n",
       "    <tr>\n",
       "      <th>936</th>\n",
       "      <td>@USER nun ja, die Nazis hatten sie nicht einge...</td>\n",
       "      <td>nazis, nazi</td>\n",
       "    </tr>\n",
       "    <tr>\n",
       "      <th>937</th>\n",
       "      <td>@USER \"verdammt noch mal auch dran hält,\" Das ...</td>\n",
       "      <td>verdammt</td>\n",
       "    </tr>\n",
       "    <tr>\n",
       "      <th>941</th>\n",
       "      <td>😂</td>\n",
       "      <td>😂</td>\n",
       "    </tr>\n",
       "  </tbody>\n",
       "</table>\n",
       "<p>374 rows × 2 columns</p>\n",
       "</div>"
      ],
      "text/plain": [
       "                                          comment_text  \\\n",
       "1    @USER , ich glaube,Sie verkrnnen gründlich die...   \n",
       "2    @USER: Man kann natürlich immerzu dieselbe Sau...   \n",
       "6    @MEDIUM ...stimmt so nicht ganz: bespiel \"klei...   \n",
       "8    Warum man diesen Typen einlädt wird sich mir n...   \n",
       "9    @USER Merkel tritt nicht mehr an. Und mit Sars...   \n",
       "..                                                 ...   \n",
       "928  Jetzt mal im ernst, es gibt z.Z. im Kabinett M...   \n",
       "932  Ohne Maßnahmen hätte Corona vielen das Leben g...   \n",
       "936  @USER nun ja, die Nazis hatten sie nicht einge...   \n",
       "937  @USER \"verdammt noch mal auch dran hält,\" Das ...   \n",
       "941                                                  😂   \n",
       "\n",
       "                                        matches_string  \n",
       "1                                  deutschland, letzte  \n",
       "2    linke, amigo, hunde, skandal, parteien, sau, a...  \n",
       "6                                          alter, alte  \n",
       "8    dümmste, gerede, pack, deutschland, affen, red...  \n",
       "9                                          deutschland  \n",
       "..                                                 ...  \n",
       "928  unsympath, sympathisch, unsympathische, unsymp...  \n",
       "932                                               nahm  \n",
       "936                                        nazis, nazi  \n",
       "937                                           verdammt  \n",
       "941                                                  😂  \n",
       "\n",
       "[374 rows x 2 columns]"
      ]
     },
     "execution_count": 47,
     "metadata": {},
     "output_type": "execute_result"
    }
   ],
   "source": [
    "df_fp"
   ]
  },
  {
   "cell_type": "code",
   "execution_count": 48,
   "metadata": {},
   "outputs": [],
   "source": [
    "#False Negatives\n",
    "df_fn = df_test[[\"comment_text\"]][df_test[\"Sub1_Toxic\"] > df_test[\"label_dich\"]]"
   ]
  },
  {
   "cell_type": "code",
   "execution_count": 49,
   "metadata": {},
   "outputs": [
    {
     "data": {
      "text/html": [
       "<div>\n",
       "<style scoped>\n",
       "    .dataframe tbody tr th:only-of-type {\n",
       "        vertical-align: middle;\n",
       "    }\n",
       "\n",
       "    .dataframe tbody tr th {\n",
       "        vertical-align: top;\n",
       "    }\n",
       "\n",
       "    .dataframe thead th {\n",
       "        text-align: right;\n",
       "    }\n",
       "</style>\n",
       "<table border=\"1\" class=\"dataframe\">\n",
       "  <thead>\n",
       "    <tr style=\"text-align: right;\">\n",
       "      <th></th>\n",
       "      <th>comment_text</th>\n",
       "    </tr>\n",
       "  </thead>\n",
       "  <tbody>\n",
       "    <tr>\n",
       "      <th>4</th>\n",
       "      <td>Ihr größter Erfolg in ihrem Leben? KLASSENSPRE...</td>\n",
       "    </tr>\n",
       "    <tr>\n",
       "      <th>13</th>\n",
       "      <td>Großen Respekt wie Herr Hallervorden mit der S...</td>\n",
       "    </tr>\n",
       "    <tr>\n",
       "      <th>38</th>\n",
       "      <td>@USER und sie brauchen ärztliche Betreuung</td>\n",
       "    </tr>\n",
       "    <tr>\n",
       "      <th>40</th>\n",
       "      <td>@MEDIUM Warum denn mit fiebern? \"Die Amerikane...</td>\n",
       "    </tr>\n",
       "    <tr>\n",
       "      <th>114</th>\n",
       "      <td>Oh....die Frau hat eine Glaskugel ? Ist ja int...</td>\n",
       "    </tr>\n",
       "    <tr>\n",
       "      <th>...</th>\n",
       "      <td>...</td>\n",
       "    </tr>\n",
       "    <tr>\n",
       "      <th>890</th>\n",
       "      <td>@USER m und wir profitieren noch mehr von der ...</td>\n",
       "    </tr>\n",
       "    <tr>\n",
       "      <th>898</th>\n",
       "      <td>@USER sehr gut👍 , aber das will keiner hören.</td>\n",
       "    </tr>\n",
       "    <tr>\n",
       "      <th>911</th>\n",
       "      <td>@USER Sie sind Hellseher?</td>\n",
       "    </tr>\n",
       "    <tr>\n",
       "      <th>919</th>\n",
       "      <td>Jo, Kleber und Slomka wissen viel besser, was ...</td>\n",
       "    </tr>\n",
       "    <tr>\n",
       "      <th>938</th>\n",
       "      <td>Frau Reemtsma braucht kein Auto. Sie hat vermu...</td>\n",
       "    </tr>\n",
       "  </tbody>\n",
       "</table>\n",
       "<p>77 rows × 1 columns</p>\n",
       "</div>"
      ],
      "text/plain": [
       "                                          comment_text\n",
       "4    Ihr größter Erfolg in ihrem Leben? KLASSENSPRE...\n",
       "13   Großen Respekt wie Herr Hallervorden mit der S...\n",
       "38          @USER und sie brauchen ärztliche Betreuung\n",
       "40   @MEDIUM Warum denn mit fiebern? \"Die Amerikane...\n",
       "114  Oh....die Frau hat eine Glaskugel ? Ist ja int...\n",
       "..                                                 ...\n",
       "890  @USER m und wir profitieren noch mehr von der ...\n",
       "898      @USER sehr gut👍 , aber das will keiner hören.\n",
       "911                          @USER Sie sind Hellseher?\n",
       "919  Jo, Kleber und Slomka wissen viel besser, was ...\n",
       "938  Frau Reemtsma braucht kein Auto. Sie hat vermu...\n",
       "\n",
       "[77 rows x 1 columns]"
      ]
     },
     "execution_count": 49,
     "metadata": {},
     "output_type": "execute_result"
    }
   ],
   "source": [
    "df_fn"
   ]
  },
  {
   "cell_type": "code",
   "execution_count": 56,
   "metadata": {},
   "outputs": [
    {
     "data": {
      "text/html": [
       "<div>\n",
       "<style scoped>\n",
       "    .dataframe tbody tr th:only-of-type {\n",
       "        vertical-align: middle;\n",
       "    }\n",
       "\n",
       "    .dataframe tbody tr th {\n",
       "        vertical-align: top;\n",
       "    }\n",
       "\n",
       "    .dataframe thead th {\n",
       "        text-align: right;\n",
       "    }\n",
       "</style>\n",
       "<table border=\"1\" class=\"dataframe\">\n",
       "  <thead>\n",
       "    <tr style=\"text-align: right;\">\n",
       "      <th></th>\n",
       "      <th>key words</th>\n",
       "    </tr>\n",
       "  </thead>\n",
       "  <tbody>\n",
       "    <tr>\n",
       "      <th>0</th>\n",
       "      <td>lächerliche</td>\n",
       "    </tr>\n",
       "    <tr>\n",
       "      <th>1</th>\n",
       "      <td>#totalschaden</td>\n",
       "    </tr>\n",
       "    <tr>\n",
       "      <th>2</th>\n",
       "      <td>hinterhältig</td>\n",
       "    </tr>\n",
       "    <tr>\n",
       "      <th>3</th>\n",
       "      <td>kasper</td>\n",
       "    </tr>\n",
       "    <tr>\n",
       "      <th>4</th>\n",
       "      <td>rettungsdienstschulen</td>\n",
       "    </tr>\n",
       "    <tr>\n",
       "      <th>...</th>\n",
       "      <td>...</td>\n",
       "    </tr>\n",
       "    <tr>\n",
       "      <th>7391</th>\n",
       "      <td>standardjunkerskaldeweikeramagkeucolaufenovent...</td>\n",
       "    </tr>\n",
       "    <tr>\n",
       "      <th>7392</th>\n",
       "      <td>kaltschnäuziger</td>\n",
       "    </tr>\n",
       "    <tr>\n",
       "      <th>7393</th>\n",
       "      <td>zickiges</td>\n",
       "    </tr>\n",
       "    <tr>\n",
       "      <th>7394</th>\n",
       "      <td>bestialisch</td>\n",
       "    </tr>\n",
       "    <tr>\n",
       "      <th>7395</th>\n",
       "      <td>hysterische</td>\n",
       "    </tr>\n",
       "  </tbody>\n",
       "</table>\n",
       "<p>7396 rows × 1 columns</p>\n",
       "</div>"
      ],
      "text/plain": [
       "                                              key words\n",
       "0                                           lächerliche\n",
       "1                                         #totalschaden\n",
       "2                                          hinterhältig\n",
       "3                                                kasper\n",
       "4                                 rettungsdienstschulen\n",
       "...                                                 ...\n",
       "7391  standardjunkerskaldeweikeramagkeucolaufenovent...\n",
       "7392                                    kaltschnäuziger\n",
       "7393                                           zickiges\n",
       "7394                                        bestialisch\n",
       "7395                                        hysterische\n",
       "\n",
       "[7396 rows x 1 columns]"
      ]
     },
     "execution_count": 56,
     "metadata": {},
     "output_type": "execute_result"
    }
   ],
   "source": [
    "df_DIKIlarge = pd.DataFrame({'key words':low_incivility_unigrams_embeddings})\n",
    "df_DIKIlarge"
   ]
  },
  {
   "cell_type": "code",
   "execution_count": 57,
   "metadata": {},
   "outputs": [],
   "source": [
    "df_DIKIlarge.to_csv(\"DIKI_large.csv\", index=None, encoding=\"utf-8\")"
   ]
  },
  {
   "cell_type": "markdown",
   "metadata": {},
   "source": [
    "## "
   ]
  }
 ],
 "metadata": {
  "kernelspec": {
   "display_name": "Python 3",
   "language": "python",
   "name": "python3"
  },
  "language_info": {
   "codemirror_mode": {
    "name": "ipython",
    "version": 3
   },
   "file_extension": ".py",
   "mimetype": "text/x-python",
   "name": "python",
   "nbconvert_exporter": "python",
   "pygments_lexer": "ipython3",
   "version": "3.8.3"
  }
 },
 "nbformat": 4,
 "nbformat_minor": 2
}

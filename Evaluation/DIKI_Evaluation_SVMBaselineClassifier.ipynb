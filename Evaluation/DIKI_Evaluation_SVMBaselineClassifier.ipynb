{
 "cells": [
  {
   "cell_type": "markdown",
   "metadata": {
    "id": "w_QrxdcT4UnB"
   },
   "source": [
    "# Evaluation Unigram Baseline Classifier"
   ]
  },
  {
   "cell_type": "markdown",
   "metadata": {},
   "source": [
    "Meta information removed for blind review."
   ]
  },
  {
   "cell_type": "code",
   "execution_count": 1,
   "metadata": {
    "id": "j-3UQcu62a_5"
   },
   "outputs": [],
   "source": [
    "import pandas as pd"
   ]
  },
  {
   "cell_type": "markdown",
   "metadata": {},
   "source": [
    "### Lead Training and Test Data Set\n",
    "Source: https://germeval2021toxic.github.io/SharedTask/"
   ]
  },
  {
   "cell_type": "code",
   "execution_count": 2,
   "metadata": {
    "id": "xh4S1iuv2yDD"
   },
   "outputs": [],
   "source": [
    "train_df = pd.read_csv(\"GermEval21_TrainData.csv\")"
   ]
  },
  {
   "cell_type": "code",
   "execution_count": 3,
   "metadata": {
    "colab": {
     "base_uri": "https://localhost:8080/",
     "height": 206
    },
    "executionInfo": {
     "elapsed": 12,
     "status": "ok",
     "timestamp": 1637778837323,
     "user": {
      "displayName": "Anke S.",
      "photoUrl": "https://lh3.googleusercontent.com/a/default-user=s64",
      "userId": "12382145308137163489"
     },
     "user_tz": -60
    },
    "id": "cvtCbFI62yQI",
    "outputId": "1ed0178d-c6b6-4d41-85da-c59cf88e3395"
   },
   "outputs": [
    {
     "data": {
      "text/html": [
       "<div>\n",
       "<style scoped>\n",
       "    .dataframe tbody tr th:only-of-type {\n",
       "        vertical-align: middle;\n",
       "    }\n",
       "\n",
       "    .dataframe tbody tr th {\n",
       "        vertical-align: top;\n",
       "    }\n",
       "\n",
       "    .dataframe thead th {\n",
       "        text-align: right;\n",
       "    }\n",
       "</style>\n",
       "<table border=\"1\" class=\"dataframe\">\n",
       "  <thead>\n",
       "    <tr style=\"text-align: right;\">\n",
       "      <th></th>\n",
       "      <th>comment_id</th>\n",
       "      <th>comment_text</th>\n",
       "      <th>Sub1_Toxic</th>\n",
       "      <th>Sub2_Engaging</th>\n",
       "      <th>Sub3_FactClaiming</th>\n",
       "    </tr>\n",
       "  </thead>\n",
       "  <tbody>\n",
       "    <tr>\n",
       "      <th>0</th>\n",
       "      <td>1</td>\n",
       "      <td>Ziemlich traurig diese Kommentare zu lesen. Ih...</td>\n",
       "      <td>0</td>\n",
       "      <td>0</td>\n",
       "      <td>0</td>\n",
       "    </tr>\n",
       "    <tr>\n",
       "      <th>1</th>\n",
       "      <td>2</td>\n",
       "      <td>Sag ich doch, wir befeuern den Klimawandel. Ra...</td>\n",
       "      <td>0</td>\n",
       "      <td>1</td>\n",
       "      <td>1</td>\n",
       "    </tr>\n",
       "    <tr>\n",
       "      <th>2</th>\n",
       "      <td>3</td>\n",
       "      <td>Schublade auf, Schublade zu. Zu mehr Denkleist...</td>\n",
       "      <td>1</td>\n",
       "      <td>0</td>\n",
       "      <td>0</td>\n",
       "    </tr>\n",
       "    <tr>\n",
       "      <th>3</th>\n",
       "      <td>4</td>\n",
       "      <td>Dummerweise haben wir in der EU und in der USA...</td>\n",
       "      <td>0</td>\n",
       "      <td>0</td>\n",
       "      <td>1</td>\n",
       "    </tr>\n",
       "    <tr>\n",
       "      <th>4</th>\n",
       "      <td>5</td>\n",
       "      <td>\"So lange Gewinnmaximierung Vorrang hat, wird ...</td>\n",
       "      <td>0</td>\n",
       "      <td>0</td>\n",
       "      <td>0</td>\n",
       "    </tr>\n",
       "  </tbody>\n",
       "</table>\n",
       "</div>"
      ],
      "text/plain": [
       "   comment_id                                       comment_text  Sub1_Toxic  \\\n",
       "0           1  Ziemlich traurig diese Kommentare zu lesen. Ih...           0   \n",
       "1           2  Sag ich doch, wir befeuern den Klimawandel. Ra...           0   \n",
       "2           3  Schublade auf, Schublade zu. Zu mehr Denkleist...           1   \n",
       "3           4  Dummerweise haben wir in der EU und in der USA...           0   \n",
       "4           5  \"So lange Gewinnmaximierung Vorrang hat, wird ...           0   \n",
       "\n",
       "   Sub2_Engaging  Sub3_FactClaiming  \n",
       "0              0                  0  \n",
       "1              1                  1  \n",
       "2              0                  0  \n",
       "3              0                  1  \n",
       "4              0                  0  "
      ]
     },
     "execution_count": 3,
     "metadata": {},
     "output_type": "execute_result"
    }
   ],
   "source": [
    "train_df.head()"
   ]
  },
  {
   "cell_type": "code",
   "execution_count": 4,
   "metadata": {
    "colab": {
     "base_uri": "https://localhost:8080/"
    },
    "executionInfo": {
     "elapsed": 10,
     "status": "ok",
     "timestamp": 1637778837324,
     "user": {
      "displayName": "Anke S.",
      "photoUrl": "https://lh3.googleusercontent.com/a/default-user=s64",
      "userId": "12382145308137163489"
     },
     "user_tz": -60
    },
    "id": "3UM4Jvng33Dx",
    "outputId": "c42b069c-ecbe-4d5c-c749-dc74e0cc1e18"
   },
   "outputs": [
    {
     "data": {
      "text/plain": [
       "3244"
      ]
     },
     "execution_count": 4,
     "metadata": {},
     "output_type": "execute_result"
    }
   ],
   "source": [
    "len(train_df)"
   ]
  },
  {
   "cell_type": "code",
   "execution_count": 5,
   "metadata": {},
   "outputs": [],
   "source": [
    "train_df = train_df[[\"comment_text\", \"Sub1_Toxic\"]]"
   ]
  },
  {
   "cell_type": "code",
   "execution_count": 6,
   "metadata": {},
   "outputs": [
    {
     "data": {
      "text/plain": [
       "0    2122\n",
       "1    1122\n",
       "Name: Sub1_Toxic, dtype: int64"
      ]
     },
     "execution_count": 6,
     "metadata": {},
     "output_type": "execute_result"
    }
   ],
   "source": [
    "train_df.Sub1_Toxic.value_counts()"
   ]
  },
  {
   "cell_type": "code",
   "execution_count": 7,
   "metadata": {
    "id": "ExxfL8K033JD"
   },
   "outputs": [],
   "source": [
    "test_df = pd.read_csv(\"GermEval21_TestData.csv\")"
   ]
  },
  {
   "cell_type": "code",
   "execution_count": 8,
   "metadata": {
    "colab": {
     "base_uri": "https://localhost:8080/",
     "height": 206
    },
    "executionInfo": {
     "elapsed": 31,
     "status": "ok",
     "timestamp": 1637778868732,
     "user": {
      "displayName": "Anke S.",
      "photoUrl": "https://lh3.googleusercontent.com/a/default-user=s64",
      "userId": "12382145308137163489"
     },
     "user_tz": -60
    },
    "id": "UAjeLCys33NW",
    "outputId": "e446a927-bd3e-4092-db7d-871afad65dba"
   },
   "outputs": [
    {
     "data": {
      "text/html": [
       "<div>\n",
       "<style scoped>\n",
       "    .dataframe tbody tr th:only-of-type {\n",
       "        vertical-align: middle;\n",
       "    }\n",
       "\n",
       "    .dataframe tbody tr th {\n",
       "        vertical-align: top;\n",
       "    }\n",
       "\n",
       "    .dataframe thead th {\n",
       "        text-align: right;\n",
       "    }\n",
       "</style>\n",
       "<table border=\"1\" class=\"dataframe\">\n",
       "  <thead>\n",
       "    <tr style=\"text-align: right;\">\n",
       "      <th></th>\n",
       "      <th>comment_id</th>\n",
       "      <th>comment_text</th>\n",
       "      <th>Sub1_Toxic</th>\n",
       "      <th>Sub2_Engaging</th>\n",
       "      <th>Sub3_FactClaiming</th>\n",
       "    </tr>\n",
       "  </thead>\n",
       "  <tbody>\n",
       "    <tr>\n",
       "      <th>0</th>\n",
       "      <td>3245</td>\n",
       "      <td>@USER Sie würden wahrscheinlich auch einen Kri...</td>\n",
       "      <td>1</td>\n",
       "      <td>1</td>\n",
       "      <td>0</td>\n",
       "    </tr>\n",
       "    <tr>\n",
       "      <th>1</th>\n",
       "      <td>3246</td>\n",
       "      <td>@USER , ich glaube,Sie verkrnnen gründlich die...</td>\n",
       "      <td>0</td>\n",
       "      <td>1</td>\n",
       "      <td>1</td>\n",
       "    </tr>\n",
       "    <tr>\n",
       "      <th>2</th>\n",
       "      <td>3247</td>\n",
       "      <td>@USER: Man kann natürlich immerzu dieselbe Sau...</td>\n",
       "      <td>0</td>\n",
       "      <td>1</td>\n",
       "      <td>1</td>\n",
       "    </tr>\n",
       "    <tr>\n",
       "      <th>3</th>\n",
       "      <td>3248</td>\n",
       "      <td>Als jemand, der im real existierenden Sozialis...</td>\n",
       "      <td>1</td>\n",
       "      <td>0</td>\n",
       "      <td>0</td>\n",
       "    </tr>\n",
       "    <tr>\n",
       "      <th>4</th>\n",
       "      <td>3249</td>\n",
       "      <td>Ihr größter Erfolg in ihrem Leben? KLASSENSPRE...</td>\n",
       "      <td>1</td>\n",
       "      <td>0</td>\n",
       "      <td>0</td>\n",
       "    </tr>\n",
       "  </tbody>\n",
       "</table>\n",
       "</div>"
      ],
      "text/plain": [
       "   comment_id                                       comment_text  Sub1_Toxic  \\\n",
       "0        3245  @USER Sie würden wahrscheinlich auch einen Kri...           1   \n",
       "1        3246  @USER , ich glaube,Sie verkrnnen gründlich die...           0   \n",
       "2        3247  @USER: Man kann natürlich immerzu dieselbe Sau...           0   \n",
       "3        3248  Als jemand, der im real existierenden Sozialis...           1   \n",
       "4        3249  Ihr größter Erfolg in ihrem Leben? KLASSENSPRE...           1   \n",
       "\n",
       "   Sub2_Engaging  Sub3_FactClaiming  \n",
       "0              1                  0  \n",
       "1              1                  1  \n",
       "2              1                  1  \n",
       "3              0                  0  \n",
       "4              0                  0  "
      ]
     },
     "execution_count": 8,
     "metadata": {},
     "output_type": "execute_result"
    }
   ],
   "source": [
    "test_df.head()"
   ]
  },
  {
   "cell_type": "code",
   "execution_count": 9,
   "metadata": {
    "colab": {
     "base_uri": "https://localhost:8080/"
    },
    "executionInfo": {
     "elapsed": 27,
     "status": "ok",
     "timestamp": 1637778868733,
     "user": {
      "displayName": "Anke S.",
      "photoUrl": "https://lh3.googleusercontent.com/a/default-user=s64",
      "userId": "12382145308137163489"
     },
     "user_tz": -60
    },
    "id": "kg7GpD5U4PzK",
    "outputId": "1cf64751-7c16-4df1-c2fc-24523f49c4fc"
   },
   "outputs": [
    {
     "data": {
      "text/plain": [
       "944"
      ]
     },
     "execution_count": 9,
     "metadata": {},
     "output_type": "execute_result"
    }
   ],
   "source": [
    "len(test_df)"
   ]
  },
  {
   "cell_type": "code",
   "execution_count": 10,
   "metadata": {},
   "outputs": [],
   "source": [
    "test_df = test_df[[\"comment_text\", \"Sub1_Toxic\"]]"
   ]
  },
  {
   "cell_type": "code",
   "execution_count": 11,
   "metadata": {},
   "outputs": [
    {
     "data": {
      "text/plain": [
       "0    594\n",
       "1    350\n",
       "Name: Sub1_Toxic, dtype: int64"
      ]
     },
     "execution_count": 11,
     "metadata": {},
     "output_type": "execute_result"
    }
   ],
   "source": [
    "test_df.Sub1_Toxic.value_counts()"
   ]
  },
  {
   "cell_type": "markdown",
   "metadata": {
    "id": "vN0UP_NQ9dc_"
   },
   "source": [
    "### Preprocessing Training and Test Data"
   ]
  },
  {
   "cell_type": "code",
   "execution_count": 12,
   "metadata": {
    "id": "4N5js2zl4vQn"
   },
   "outputs": [],
   "source": [
    "from sklearn.feature_extraction.text import TfidfVectorizer, TfidfTransformer"
   ]
  },
  {
   "cell_type": "code",
   "execution_count": 13,
   "metadata": {
    "colab": {
     "base_uri": "https://localhost:8080/"
    },
    "executionInfo": {
     "elapsed": 1104,
     "status": "ok",
     "timestamp": 1637778900447,
     "user": {
      "displayName": "Anke S.",
      "photoUrl": "https://lh3.googleusercontent.com/a/default-user=s64",
      "userId": "12382145308137163489"
     },
     "user_tz": -60
    },
    "id": "FX-U_UEd6gvX",
    "outputId": "5be9093b-0772-4f3d-eb5f-a70a83b900fe"
   },
   "outputs": [],
   "source": [
    "import nltk\n",
    "#nltk.download('stopwords')\n",
    "from nltk.corpus import stopwords"
   ]
  },
  {
   "cell_type": "code",
   "execution_count": 14,
   "metadata": {
    "id": "Kbf4eCu46gym"
   },
   "outputs": [],
   "source": [
    "stopwords_nltk = list(set(stopwords.words('german')))"
   ]
  },
  {
   "cell_type": "code",
   "execution_count": 15,
   "metadata": {
    "id": "MTRAOLoL8a56"
   },
   "outputs": [],
   "source": [
    "stopwords_nltk.sort()"
   ]
  },
  {
   "cell_type": "code",
   "execution_count": 16,
   "metadata": {
    "colab": {
     "base_uri": "https://localhost:8080/"
    },
    "executionInfo": {
     "elapsed": 252,
     "status": "ok",
     "timestamp": 1637778906501,
     "user": {
      "displayName": "Anke S.",
      "photoUrl": "https://lh3.googleusercontent.com/a/default-user=s64",
      "userId": "12382145308137163489"
     },
     "user_tz": -60
    },
    "id": "uzZ-2B0radhF",
    "outputId": "f01e5f78-342b-48d3-e5c7-577f9863476c"
   },
   "outputs": [
    {
     "data": {
      "text/plain": [
       "['wollte',\n",
       " 'während',\n",
       " 'würde',\n",
       " 'würden',\n",
       " 'zu',\n",
       " 'zum',\n",
       " 'zur',\n",
       " 'zwar',\n",
       " 'zwischen',\n",
       " 'über']"
      ]
     },
     "execution_count": 16,
     "metadata": {},
     "output_type": "execute_result"
    }
   ],
   "source": [
    "stopwords_nltk[-10:] #Last 10 enties of the stopword list"
   ]
  },
  {
   "cell_type": "code",
   "execution_count": 17,
   "metadata": {
    "id": "NHC1ZqtNjjhd"
   },
   "outputs": [],
   "source": [
    "vec = TfidfVectorizer(stop_words=stopwords_nltk,\n",
    "                      max_df=0.90, #ignore terms that appear in more than 80% of the documents\n",
    "                      min_df=0.01 #ignore terms that appear in less than 1% of the documents\n",
    "                     ) "
   ]
  },
  {
   "cell_type": "markdown",
   "metadata": {
    "id": "1D7o6sxQdtUY"
   },
   "source": [
    "#### Oversampling\n"
   ]
  },
  {
   "cell_type": "code",
   "execution_count": 18,
   "metadata": {
    "id": "ud_ClsnldwF-"
   },
   "outputs": [],
   "source": [
    "from imblearn.over_sampling import SMOTE"
   ]
  },
  {
   "cell_type": "code",
   "execution_count": 19,
   "metadata": {
    "id": "njuTT4fqjRBq"
   },
   "outputs": [],
   "source": [
    "X_train = train_df[\"comment_text\"]\n",
    "y_train = train_df[\"Sub1_Toxic\"]"
   ]
  },
  {
   "cell_type": "code",
   "execution_count": 20,
   "metadata": {
    "id": "7tKgn9DjjdAe"
   },
   "outputs": [],
   "source": [
    "X_train_vec = vec.fit_transform(X_train)"
   ]
  },
  {
   "cell_type": "code",
   "execution_count": 21,
   "metadata": {
    "id": "Pyc84BI4jLDd"
   },
   "outputs": [],
   "source": [
    "smt = SMOTE(random_state=42) #Smote Oversampling Algorithm"
   ]
  },
  {
   "cell_type": "code",
   "execution_count": 22,
   "metadata": {
    "id": "9rbTAtDUjOcz"
   },
   "outputs": [],
   "source": [
    "X_train_SMOTE, y_train_SMOTE = smt.fit_resample(X_train_vec, y_train)"
   ]
  },
  {
   "cell_type": "code",
   "execution_count": 23,
   "metadata": {
    "colab": {
     "base_uri": "https://localhost:8080/"
    },
    "executionInfo": {
     "elapsed": 233,
     "status": "ok",
     "timestamp": 1637778952501,
     "user": {
      "displayName": "Anke S.",
      "photoUrl": "https://lh3.googleusercontent.com/a/default-user=s64",
      "userId": "12382145308137163489"
     },
     "user_tz": -60
    },
    "id": "G1GCc84fkLwS",
    "outputId": "23ab58e2-1d77-4693-f386-8b3e385b5a19"
   },
   "outputs": [
    {
     "data": {
      "text/plain": [
       "<4244x146 sparse matrix of type '<class 'numpy.float64'>'\n",
       "\twith 16254 stored elements in Compressed Sparse Row format>"
      ]
     },
     "execution_count": 23,
     "metadata": {},
     "output_type": "execute_result"
    }
   ],
   "source": [
    "X_train_SMOTE"
   ]
  },
  {
   "cell_type": "code",
   "execution_count": 24,
   "metadata": {
    "colab": {
     "base_uri": "https://localhost:8080/"
    },
    "executionInfo": {
     "elapsed": 249,
     "status": "ok",
     "timestamp": 1637778960297,
     "user": {
      "displayName": "Anke S.",
      "photoUrl": "https://lh3.googleusercontent.com/a/default-user=s64",
      "userId": "12382145308137163489"
     },
     "user_tz": -60
    },
    "id": "xGrv9QwbkTQ6",
    "outputId": "e1134f99-fedd-420a-9d35-dff5ec19c908"
   },
   "outputs": [
    {
     "data": {
      "text/plain": [
       "<4244x146 sparse matrix of type '<class 'numpy.float64'>'\n",
       "\twith 16254 stored elements in Compressed Sparse Row format>"
      ]
     },
     "execution_count": 24,
     "metadata": {},
     "output_type": "execute_result"
    }
   ],
   "source": [
    "X_train_SMOTE #Resampled matrix"
   ]
  },
  {
   "cell_type": "code",
   "execution_count": 25,
   "metadata": {
    "colab": {
     "base_uri": "https://localhost:8080/"
    },
    "executionInfo": {
     "elapsed": 305,
     "status": "ok",
     "timestamp": 1637778957791,
     "user": {
      "displayName": "Anke S.",
      "photoUrl": "https://lh3.googleusercontent.com/a/default-user=s64",
      "userId": "12382145308137163489"
     },
     "user_tz": -60
    },
    "id": "vWEw5sgpkpHV",
    "outputId": "5dd5290c-5632-4012-c26d-c0eb890278cb"
   },
   "outputs": [
    {
     "data": {
      "text/plain": [
       "<3244x146 sparse matrix of type '<class 'numpy.float64'>'\n",
       "\twith 11604 stored elements in Compressed Sparse Row format>"
      ]
     },
     "execution_count": 25,
     "metadata": {},
     "output_type": "execute_result"
    }
   ],
   "source": [
    "X_train_vec #Not resampled matrix"
   ]
  },
  {
   "cell_type": "markdown",
   "metadata": {
    "id": "WdH4ITp65KHh"
   },
   "source": [
    "#### Train Classifer"
   ]
  },
  {
   "cell_type": "code",
   "execution_count": 26,
   "metadata": {
    "id": "GvyWZqEF8a9J"
   },
   "outputs": [],
   "source": [
    "from sklearn.svm import SVC #SVM Classifier"
   ]
  },
  {
   "cell_type": "code",
   "execution_count": 27,
   "metadata": {
    "id": "zwbj-SnQjvss"
   },
   "outputs": [],
   "source": [
    "model = SVC()"
   ]
  },
  {
   "cell_type": "code",
   "execution_count": 28,
   "metadata": {
    "colab": {
     "base_uri": "https://localhost:8080/"
    },
    "executionInfo": {
     "elapsed": 2818,
     "status": "ok",
     "timestamp": 1637778970021,
     "user": {
      "displayName": "Anke S.",
      "photoUrl": "https://lh3.googleusercontent.com/a/default-user=s64",
      "userId": "12382145308137163489"
     },
     "user_tz": -60
    },
    "id": "JZbvrC4ljyb9",
    "outputId": "224b1bec-8c12-498a-e6e5-18d885f13c12"
   },
   "outputs": [
    {
     "data": {
      "text/plain": [
       "SVC()"
      ]
     },
     "execution_count": 28,
     "metadata": {},
     "output_type": "execute_result"
    }
   ],
   "source": [
    "model.fit(X_train_SMOTE, y_train_SMOTE) #Train on resampled training data"
   ]
  },
  {
   "cell_type": "markdown",
   "metadata": {
    "id": "GFlgW4Rv5L5d"
   },
   "source": [
    "### Apply and Evaluate Classifier"
   ]
  },
  {
   "cell_type": "code",
   "execution_count": 29,
   "metadata": {},
   "outputs": [],
   "source": [
    "from sklearn.metrics import classification_report\n",
    "from sklearn.metrics import confusion_matrix\n",
    "\n",
    "import seaborn as sn\n",
    "import matplotlib.pyplot as plt"
   ]
  },
  {
   "cell_type": "code",
   "execution_count": 30,
   "metadata": {
    "id": "fT7YNsoQ-GjJ"
   },
   "outputs": [],
   "source": [
    "y_test = test_df[\"Sub1_Toxic\"]\n",
    "X_test = test_df[\"comment_text\"]"
   ]
  },
  {
   "cell_type": "code",
   "execution_count": 31,
   "metadata": {
    "id": "qZYPtQ4GgjhW"
   },
   "outputs": [],
   "source": [
    "y_pred = model.predict(vec.transform(X_test))"
   ]
  },
  {
   "cell_type": "code",
   "execution_count": 32,
   "metadata": {
    "colab": {
     "base_uri": "https://localhost:8080/"
    },
    "executionInfo": {
     "elapsed": 264,
     "status": "ok",
     "timestamp": 1637778998820,
     "user": {
      "displayName": "Anke S.",
      "photoUrl": "https://lh3.googleusercontent.com/a/default-user=s64",
      "userId": "12382145308137163489"
     },
     "user_tz": -60
    },
    "id": "eMhvdGe7-iaP",
    "outputId": "5ebedf0e-02ce-4545-be1b-109e53343db8"
   },
   "outputs": [
    {
     "name": "stdout",
     "output_type": "stream",
     "text": [
      "              precision    recall  f1-score   support\n",
      "\n",
      "           0       0.64      0.70      0.67       594\n",
      "           1       0.40      0.35      0.37       350\n",
      "\n",
      "    accuracy                           0.57       944\n",
      "   macro avg       0.52      0.52      0.52       944\n",
      "weighted avg       0.56      0.57      0.56       944\n",
      "\n"
     ]
    }
   ],
   "source": [
    "print(classification_report(y_test, y_pred))"
   ]
  },
  {
   "cell_type": "code",
   "execution_count": 33,
   "metadata": {
    "colab": {
     "base_uri": "https://localhost:8080/",
     "height": 320
    },
    "executionInfo": {
     "elapsed": 666,
     "status": "ok",
     "timestamp": 1637779006019,
     "user": {
      "displayName": "Anke S.",
      "photoUrl": "https://lh3.googleusercontent.com/a/default-user=s64",
      "userId": "12382145308137163489"
     },
     "user_tz": -60
    },
    "id": "dVr-L1Lk_eKl",
    "outputId": "81d2c267-bafb-4c70-a7d4-9013821234b6"
   },
   "outputs": [
    {
     "data": {
      "image/png": "[encoded data removed]",
      "text/plain": [
       "<Figure size 504x360 with 2 Axes>"
      ]
     },
     "metadata": {
      "needs_background": "light"
     },
     "output_type": "display_data"
    }
   ],
   "source": [
    "array = confusion_matrix(y_test, y_pred)\n",
    "df_cm = pd.DataFrame(array,index=[\"True Not Uncivil\", \"True Uncivil\"],\n",
    "                  columns = [\"Predicted Not Uncivil\", \"Predicted Uncivil\"])\n",
    "plt.figure(figsize = (7,5)\n",
    ")\n",
    "\n",
    "fig = sn.heatmap(df_cm, \n",
    "                 annot=True,\n",
    "                 annot_kws={\"fontsize\":16},\n",
    "                # cmap=\"crest\",\n",
    "                 cbar=True, \n",
    "                 linewidth=0.9, \n",
    "                 linecolor=\"white\",\n",
    "                 fmt='g')\n",
    "sn.set(font_scale=1.8)\n",
    "figure = fig.get_figure()    \n",
    "#figure.savefig('my_cm.pdf', dpi=400)"
   ]
  },
  {
   "cell_type": "markdown",
   "metadata": {
    "id": "Op1XUMWOmAxA"
   },
   "source": [
    "#### Alternative Pipeline"
   ]
  },
  {
   "cell_type": "code",
   "execution_count": 34,
   "metadata": {
    "id": "02w6WeC2lTe5"
   },
   "outputs": [],
   "source": [
    "from imblearn.pipeline import make_pipeline\n",
    "pipeline = make_pipeline(smt, model)"
   ]
  },
  {
   "cell_type": "code",
   "execution_count": 35,
   "metadata": {
    "colab": {
     "base_uri": "https://localhost:8080/"
    },
    "executionInfo": {
     "elapsed": 3989,
     "status": "ok",
     "timestamp": 1636560229555,
     "user": {
      "displayName": "Anke S.",
      "photoUrl": "https://lh3.googleusercontent.com/a/default-user=s64",
      "userId": "12382145308137163489"
     },
     "user_tz": -60
    },
    "id": "HWaagXIKlXX5",
    "outputId": "6130c0bc-4b43-4a36-c683-10bf08419b60"
   },
   "outputs": [
    {
     "data": {
      "text/plain": [
       "Pipeline(steps=[('smote', SMOTE(random_state=42)), ('svc', SVC())])"
      ]
     },
     "execution_count": 35,
     "metadata": {},
     "output_type": "execute_result"
    }
   ],
   "source": [
    "pipeline.fit(X_train_vec, y_train)"
   ]
  },
  {
   "cell_type": "code",
   "execution_count": 36,
   "metadata": {
    "id": "hLj97pbrl1n-"
   },
   "outputs": [],
   "source": [
    "y_pred_pipe = pipeline.predict(vec.transform(X_test))"
   ]
  },
  {
   "cell_type": "code",
   "execution_count": 37,
   "metadata": {
    "colab": {
     "base_uri": "https://localhost:8080/"
    },
    "executionInfo": {
     "elapsed": 223,
     "status": "ok",
     "timestamp": 1636560268743,
     "user": {
      "displayName": "Anke S.",
      "photoUrl": "https://lh3.googleusercontent.com/a/default-user=s64",
      "userId": "12382145308137163489"
     },
     "user_tz": -60
    },
    "id": "x1kAnagzl8bo",
    "outputId": "5d4f9eea-10ae-4134-823e-f8ad21de7416"
   },
   "outputs": [
    {
     "name": "stdout",
     "output_type": "stream",
     "text": [
      "              precision    recall  f1-score   support\n",
      "\n",
      "           0       0.64      0.70      0.67       594\n",
      "           1       0.40      0.35      0.37       350\n",
      "\n",
      "    accuracy                           0.57       944\n",
      "   macro avg       0.52      0.52      0.52       944\n",
      "weighted avg       0.56      0.57      0.56       944\n",
      "\n"
     ]
    }
   ],
   "source": [
    "print(classification_report(y_test, y_pred_pipe))"
   ]
  },
  {
   "cell_type": "markdown",
   "metadata": {
    "id": "qiOOpRyHmLh0"
   },
   "source": [
    "#### Results without SMOTE"
   ]
  },
  {
   "cell_type": "code",
   "execution_count": 38,
   "metadata": {
    "colab": {
     "base_uri": "https://localhost:8080/"
    },
    "executionInfo": {
     "elapsed": 2214,
     "status": "ok",
     "timestamp": 1637779080769,
     "user": {
      "displayName": "Anke S.",
      "photoUrl": "https://lh3.googleusercontent.com/a/default-user=s64",
      "userId": "12382145308137163489"
     },
     "user_tz": -60
    },
    "id": "TwjRGzSGmNfB",
    "outputId": "885e17f9-2122-4440-e2ad-0711653c72b7"
   },
   "outputs": [
    {
     "data": {
      "text/plain": [
       "SVC()"
      ]
     },
     "execution_count": 38,
     "metadata": {},
     "output_type": "execute_result"
    }
   ],
   "source": [
    "model.fit(X_train_vec, y_train)"
   ]
  },
  {
   "cell_type": "code",
   "execution_count": 39,
   "metadata": {
    "id": "sz8jc2jJmTKF"
   },
   "outputs": [],
   "source": [
    "y_pred_imb= model.predict(vec.transform(X_test))"
   ]
  },
  {
   "cell_type": "code",
   "execution_count": 40,
   "metadata": {
    "colab": {
     "base_uri": "https://localhost:8080/"
    },
    "executionInfo": {
     "elapsed": 352,
     "status": "ok",
     "timestamp": 1637779085609,
     "user": {
      "displayName": "Anke S.",
      "photoUrl": "https://lh3.googleusercontent.com/a/default-user=s64",
      "userId": "12382145308137163489"
     },
     "user_tz": -60
    },
    "id": "ZZZxv4qzmcQ1",
    "outputId": "b4d5a2ad-fdf6-4d89-b3ea-be032ed00fb2"
   },
   "outputs": [
    {
     "name": "stdout",
     "output_type": "stream",
     "text": [
      "              precision    recall  f1-score   support\n",
      "\n",
      "           0       0.63      0.95      0.76       594\n",
      "           1       0.43      0.07      0.11       350\n",
      "\n",
      "    accuracy                           0.62       944\n",
      "   macro avg       0.53      0.51      0.44       944\n",
      "weighted avg       0.56      0.62      0.52       944\n",
      "\n"
     ]
    }
   ],
   "source": [
    "print(classification_report(y_test, y_pred_imb))"
   ]
  }
 ],
 "metadata": {
  "accelerator": "GPU",
  "colab": {
   "authorship_tag": "ABX9TyNIjAIUzLmUSTovMnXIG3QZ",
   "collapsed_sections": [
    "Op1XUMWOmAxA",
    "qiOOpRyHmLh0"
   ],
   "name": "DIKI_fullPaper_Evaluation_SVMBaselineClassifier.ipynb",
   "provenance": [],
   "toc_visible": true
  },
  "kernelspec": {
   "display_name": "Python 3",
   "language": "python",
   "name": "python3"
  },
  "language_info": {
   "codemirror_mode": {
    "name": "ipython",
    "version": 3
   },
   "file_extension": ".py",
   "mimetype": "text/x-python",
   "name": "python",
   "nbconvert_exporter": "python",
   "pygments_lexer": "ipython3",
   "version": "3.8.3"
  }
 },
 "nbformat": 4,
 "nbformat_minor": 1
}
